{
 "cells": [
  {
   "cell_type": "markdown",
   "metadata": {},
   "source": [
    "# Neural Machine Translation\n",
    "\n",
    "Welcome to your first programming assignment for this week! \n",
    "\n",
    "You will build a Neural Machine Translation (NMT) model to translate human readable dates (\"25th of June, 2009\") into machine readable dates (\"2009-06-25\"). You will do this using an attention model, one of the most sophisticated sequence to sequence models. \n",
    "\n",
    "This notebook was produced together with NVIDIA's Deep Learning Institute. \n",
    "\n",
    "Let's load all the packages you will need for this assignment."
   ]
  },
  {
   "cell_type": "code",
   "execution_count": 1,
   "metadata": {},
   "outputs": [
    {
     "name": "stderr",
     "output_type": "stream",
     "text": [
      "d:\\program files\\python36\\lib\\site-packages\\h5py\\__init__.py:36: FutureWarning: Conversion of the second argument of issubdtype from `float` to `np.floating` is deprecated. In future, it will be treated as `np.float64 == np.dtype(float).type`.\n",
      "  from ._conv import register_converters as _register_converters\n",
      "Using TensorFlow backend.\n"
     ]
    }
   ],
   "source": [
    "# Bidirectional双向循环神经网络 Permute层将输入的维度按照给定模式进行重排\n",
    "from keras.layers import Bidirectional, Concatenate, Permute, Dot, Input, LSTM, Multiply\n",
    "from keras.layers import RepeatVector, Dense, Activation, Lambda\n",
    "from keras.optimizers import Adam\n",
    "from keras.utils import to_categorical\n",
    "from keras.models import load_model, Model\n",
    "import keras.backend as K\n",
    "import numpy as np\n",
    "\n",
    "from faker import Faker # 随机生成测试数据的模块\n",
    "import random\n",
    "from tqdm import tqdm # 进度条库,可以在 Python 长循环中添加一个进度提示信息用法\n",
    "from babel.dates import format_date\n",
    "from nmt_utils import *\n",
    "import matplotlib.pyplot as plt\n",
    "%matplotlib inline"
   ]
  },
  {
   "cell_type": "markdown",
   "metadata": {},
   "source": [
    "## 1 - Translating human readable dates into machine readable dates\n",
    "\n",
    "The model you will build here could be used to translate from one language to another, such as translating from English to Hindi. However, language translation requires massive datasets and usually takes days of training on GPUs. To give you a place to experiment with these models even without using massive datasets, we will instead use a simpler \"date translation\" task. \n",
    "\n",
    "The network will input a date written in a variety of possible formats (*e.g. \"the 29th of August 1958\", \"03/30/1968\", \"24 JUNE 1987\"*) and translate them into standardized, machine readable dates (*e.g. \"1958-08-29\", \"1968-03-30\", \"1987-06-24\"*). We will have the network learn to output dates in the common machine-readable format YYYY-MM-DD. \n",
    "\n",
    "\n",
    "\n",
    "<!-- \n",
    "Take a look at [nmt_utils.py](./nmt_utils.py) to see all the formatting. Count and figure out how the formats work, you will need this knowledge later. !--> "
   ]
  },
  {
   "cell_type": "markdown",
   "metadata": {},
   "source": [
    "### 1.1 - Dataset\n",
    "\n",
    "We will train the model on a dataset of 10000 human readable dates and their equivalent, standardized, machine readable dates. Let's run the following cells to load the dataset and print some examples. "
   ]
  },
  {
   "cell_type": "code",
   "execution_count": 2,
   "metadata": {},
   "outputs": [
    {
     "name": "stderr",
     "output_type": "stream",
     "text": [
      "100%|██████████████████████████████████████████████| 10000/10000 [00:01<00:00, 8847.70it/s]\n"
     ]
    }
   ],
   "source": [
    "m = 10000\n",
    "dataset, human_vocab, machine_vocab, inv_machine_vocab = load_dataset(m)"
   ]
  },
  {
   "cell_type": "code",
   "execution_count": 3,
   "metadata": {},
   "outputs": [
    {
     "data": {
      "text/plain": [
       "[('9 may 1998', '1998-05-09'),\n",
       " ('10.09.70', '1970-09-10'),\n",
       " ('4/28/90', '1990-04-28'),\n",
       " ('thursday january 26 1995', '1995-01-26'),\n",
       " ('monday march 7 1983', '1983-03-07'),\n",
       " ('sunday may 22 1988', '1988-05-22'),\n",
       " ('tuesday july 8 2008', '2008-07-08'),\n",
       " ('08 sep 1999', '1999-09-08'),\n",
       " ('1 jan 1981', '1981-01-01'),\n",
       " ('monday may 22 1995', '1995-05-22')]"
      ]
     },
     "execution_count": 3,
     "metadata": {},
     "output_type": "execute_result"
    }
   ],
   "source": [
    "dataset[:10]"
   ]
  },
  {
   "cell_type": "markdown",
   "metadata": {},
   "source": [
    "You've loaded:\n",
    "- `dataset`: a list of tuples of (human readable date, machine readable date)\n",
    "- `human_vocab`: a python dictionary mapping all characters used in the human readable dates to an integer-valued index \n",
    "- `machine_vocab`: a python dictionary mapping all characters used in machine readable dates to an integer-valued index. These indices are not necessarily consistent with `human_vocab`. \n",
    "- `inv_machine_vocab`: the inverse dictionary of `machine_vocab`, mapping from indices back to characters. \n",
    "\n",
    "Let's preprocess the data and map the raw text data into the index values. We will also use Tx=30 (which we assume is the maximum length of the human readable date; if we get a longer input, we would have to truncate it) and Ty=10 (since \"YYYY-MM-DD\" is 10 characters long). "
   ]
  },
  {
   "cell_type": "code",
   "execution_count": 4,
   "metadata": {},
   "outputs": [
    {
     "name": "stdout",
     "output_type": "stream",
     "text": [
      "X.shape: (10000, 30)\n",
      "Y.shape: (10000, 10)\n",
      "Xoh.shape: (10000, 30, 37)\n",
      "Yoh.shape: (10000, 10, 11)\n"
     ]
    }
   ],
   "source": [
    "Tx = 30\n",
    "Ty = 10\n",
    "X, Y, Xoh, Yoh = preprocess_data(dataset, human_vocab, machine_vocab, Tx, Ty)\n",
    "\n",
    "print(\"X.shape:\", X.shape)\n",
    "print(\"Y.shape:\", Y.shape)\n",
    "print(\"Xoh.shape:\", Xoh.shape)\n",
    "print(\"Yoh.shape:\", Yoh.shape)"
   ]
  },
  {
   "cell_type": "markdown",
   "metadata": {},
   "source": [
    "You now have:\n",
    "- `X`: a processed version of the human readable dates in the training set, where each character is replaced by an index mapped to the character via `human_vocab`. Each date is further padded to $T_x$ values with a special character (< pad >). `X.shape = (m, Tx)`\n",
    "- `Y`: a processed version of the machine readable dates in the training set, where each character is replaced by the index it is mapped to in `machine_vocab`. You should have `Y.shape = (m, Ty)`. \n",
    "- `Xoh`: one-hot version of `X`, the \"1\" entry's index is mapped to the character thanks to `human_vocab`. `Xoh.shape = (m, Tx, len(human_vocab))`\n",
    "- `Yoh`: one-hot version of `Y`, the \"1\" entry's index is mapped to the character thanks to `machine_vocab`. `Yoh.shape = (m, Tx, len(machine_vocab))`. Here, `len(machine_vocab) = 11` since there are 11 characters ('-' as well as 0-9). \n"
   ]
  },
  {
   "cell_type": "markdown",
   "metadata": {},
   "source": [
    "Lets also look at some examples of preprocessed training examples. Feel free to play with `index` in the cell below to navigate the dataset and see how source/target dates are preprocessed. "
   ]
  },
  {
   "cell_type": "code",
   "execution_count": 5,
   "metadata": {},
   "outputs": [
    {
     "name": "stdout",
     "output_type": "stream",
     "text": [
      "Source date: 9 may 1998\n",
      "Target date: 1998-05-09\n",
      "\n",
      "Source after preprocessing (indices): [12  0 24 13 34  0  4 12 12 11 36 36 36 36 36 36 36 36 36 36 36 36 36 36\n",
      " 36 36 36 36 36 36]\n",
      "Target after preprocessing (indices): [ 2 10 10  9  0  1  6  0  1 10]\n",
      "\n",
      "Source after preprocessing (one-hot): [[0. 0. 0. ... 0. 0. 0.]\n",
      " [1. 0. 0. ... 0. 0. 0.]\n",
      " [0. 0. 0. ... 0. 0. 0.]\n",
      " ...\n",
      " [0. 0. 0. ... 0. 0. 1.]\n",
      " [0. 0. 0. ... 0. 0. 1.]\n",
      " [0. 0. 0. ... 0. 0. 1.]]\n",
      "Target after preprocessing (one-hot): [[0. 0. 1. 0. 0. 0. 0. 0. 0. 0. 0.]\n",
      " [0. 0. 0. 0. 0. 0. 0. 0. 0. 0. 1.]\n",
      " [0. 0. 0. 0. 0. 0. 0. 0. 0. 0. 1.]\n",
      " [0. 0. 0. 0. 0. 0. 0. 0. 0. 1. 0.]\n",
      " [1. 0. 0. 0. 0. 0. 0. 0. 0. 0. 0.]\n",
      " [0. 1. 0. 0. 0. 0. 0. 0. 0. 0. 0.]\n",
      " [0. 0. 0. 0. 0. 0. 1. 0. 0. 0. 0.]\n",
      " [1. 0. 0. 0. 0. 0. 0. 0. 0. 0. 0.]\n",
      " [0. 1. 0. 0. 0. 0. 0. 0. 0. 0. 0.]\n",
      " [0. 0. 0. 0. 0. 0. 0. 0. 0. 0. 1.]]\n"
     ]
    }
   ],
   "source": [
    "index = 0\n",
    "print(\"Source date:\", dataset[index][0])\n",
    "print(\"Target date:\", dataset[index][1])\n",
    "print()\n",
    "print(\"Source after preprocessing (indices):\", X[index])\n",
    "print(\"Target after preprocessing (indices):\", Y[index])\n",
    "print()\n",
    "print(\"Source after preprocessing (one-hot):\", Xoh[index])\n",
    "print(\"Target after preprocessing (one-hot):\", Yoh[index])"
   ]
  },
  {
   "cell_type": "markdown",
   "metadata": {},
   "source": [
    "## 2 - Neural machine translation with attention\n",
    "\n",
    "If you had to translate a book's paragraph from French to English, you would not read the whole paragraph, then close the book and translate. Even during the translation process, you would read/re-read and focus on the parts of the French paragraph corresponding to the parts of the English you are writing down. \n",
    "\n",
    "The attention mechanism tells a Neural Machine Translation model where it should pay attention to at any step. \n",
    "\n",
    "\n",
    "### 2.1 - Attention mechanism\n",
    "\n",
    "In this part, you will implement the attention mechanism presented in the lecture videos. Here is a figure to remind you how the model works. The diagram on the left shows the attention model. The diagram on the right shows what one \"Attention\" step does to calculate the attention variables $\\alpha^{\\langle t, t' \\rangle}$, which are used to compute the context variable $context^{\\langle t \\rangle}$ for each timestep in the output ($t=1, \\ldots, T_y$). \n",
    "\n",
    "<table>\n",
    "<td> \n",
    "<img src=\"images/attn_model.png\" style=\"width:500;height:500px;\"> <br>\n",
    "</td> \n",
    "<td> \n",
    "<img src=\"images/attn_mechanism.png\" style=\"width:500;height:500px;\"> <br>\n",
    "</td> \n",
    "</table>\n",
    "<caption><center> **Figure 1**: Neural machine translation with attention</center></caption>\n"
   ]
  },
  {
   "cell_type": "markdown",
   "metadata": {},
   "source": [
    "\n",
    "Here are some properties of the model that you may notice: \n",
    "\n",
    "- There are two separate LSTMs in this model (see diagram on the left). Because the one at the bottom of the picture is a Bi-directional LSTM and comes *before* the attention mechanism, we will call it *pre-attention* Bi-LSTM. The LSTM at the top of the diagram comes *after* the attention mechanism, so we will call it the *post-attention* LSTM. The pre-attention Bi-LSTM goes through $T_x$ time steps; the post-attention LSTM goes through $T_y$ time steps. \n",
    "\n",
    "- The post-attention LSTM passes $s^{\\langle t \\rangle}, c^{\\langle t \\rangle}$ from one time step to the next. In the lecture videos, we were using only a basic RNN for the post-activation sequence model, so the state captured by the RNN output activations $s^{\\langle t\\rangle}$. But since we are using an LSTM here, the LSTM has both the output activation $s^{\\langle t\\rangle}$ and the hidden cell state $c^{\\langle t\\rangle}$. However, unlike previous text generation examples (such as Dinosaurus in week 1), in this model the post-activation LSTM at time $t$ does will not take the specific generated $y^{\\langle t-1 \\rangle}$ as input; it only takes $s^{\\langle t\\rangle}$ and $c^{\\langle t\\rangle}$ as input. We have designed the model this way, because (unlike language generation where adjacent characters are highly correlated) there isn't as strong a dependency between the previous character and the next character in a YYYY-MM-DD date. \n",
    "\n",
    "- We use $a^{\\langle t \\rangle} = [\\overrightarrow{a}^{\\langle t \\rangle}; \\overleftarrow{a}^{\\langle t \\rangle}]$ to represent the concatenation of the activations of both the forward-direction and backward-directions of the pre-attention Bi-LSTM. \n",
    "\n",
    "- The diagram on the right uses a `RepeatVector` node to copy $s^{\\langle t-1 \\rangle}$'s value $T_x$ times, and then `Concatenation` to concatenate $s^{\\langle t-1 \\rangle}$ and $a^{\\langle t \\rangle}$ to compute $e^{\\langle t, t'}$, which is then passed through a softmax to compute $\\alpha^{\\langle t, t' \\rangle}$. We'll explain how to use `RepeatVector` and `Concatenation` in Keras below. \n",
    "\n",
    "Lets implement this model. You will start by implementing two functions: `one_step_attention()` and `model()`.\n",
    "\n",
    "**1) `one_step_attention()`**: At step $t$, given all the hidden states of the Bi-LSTM ($[a^{<1>},a^{<2>}, ..., a^{<T_x>}]$) and the previous hidden state of the second LSTM ($s^{<t-1>}$), `one_step_attention()` will compute the attention weights ($[\\alpha^{<t,1>},\\alpha^{<t,2>}, ..., \\alpha^{<t,T_x>}]$) and output the context vector (see Figure  1 (right) for details):\n",
    "$$context^{<t>} = \\sum_{t' = 0}^{T_x} \\alpha^{<t,t'>}a^{<t'>}\\tag{1}$$ \n",
    "\n",
    "Note that we are denoting the attention in this notebook $context^{\\langle t \\rangle}$. In the lecture videos, the context was denoted $c^{\\langle t \\rangle}$, but here we are calling it $context^{\\langle t \\rangle}$ to avoid confusion with the (post-attention) LSTM's internal memory cell variable, which is sometimes also denoted $c^{\\langle t \\rangle}$. \n",
    "  \n",
    "**2) `model()`**: Implements the entire model. It first runs the input through a Bi-LSTM to get back $[a^{<1>},a^{<2>}, ..., a^{<T_x>}]$. Then, it calls `one_step_attention()` $T_y$ times (`for` loop). At each iteration of this loop, it gives the computed context vector $c^{<t>}$ to the second LSTM, and runs the output of the LSTM through a dense layer with softmax activation to generate a prediction $\\hat{y}^{<t>}$. \n",
    "\n",
    "\n",
    "\n",
    "**Exercise**: Implement `one_step_attention()`. The function `model()` will call the layers in `one_step_attention()` $T_y$ using a for-loop, and it is important that all $T_y$ copies have the same weights. I.e., it should not re-initiaiize the weights every time. In other words, all $T_y$ steps should have shared weights. Here's how you can implement layers with shareable weights in Keras:\n",
    "1. Define the layer objects (as global variables for examples).\n",
    "2. Call these objects when propagating the input.\n",
    "\n",
    "We have defined the layers you need as global variables. Please run the following cells to create them. Please check the Keras documentation to make sure you understand what these layers are: [RepeatVector()](https://keras.io/layers/core/#repeatvector), [Concatenate()](https://keras.io/layers/merge/#concatenate), [Dense()](https://keras.io/layers/core/#dense), [Activation()](https://keras.io/layers/core/#activation), [Dot()](https://keras.io/layers/merge/#dot)."
   ]
  },
  {
   "cell_type": "code",
   "execution_count": 6,
   "metadata": {},
   "outputs": [],
   "source": [
    "# Defined shared layers as global variables\n",
    "repeator = RepeatVector(Tx)\n",
    "concatenator = Concatenate(axis=-1)\n",
    "densor1 = Dense(10, activation = \"tanh\")\n",
    "densor2 = Dense(1, activation = \"relu\")\n",
    "activator = Activation(softmax, name='attention_weights') # We are using a custom softmax(axis = 1) loaded in this notebook\n",
    "dotor = Dot(axes = 1)"
   ]
  },
  {
   "cell_type": "markdown",
   "metadata": {},
   "source": [
    "Now you can use these layers to implement `one_step_attention()`. In order to propagate a Keras tensor object X through one of these layers, use `layer(X)` (or `layer([X,Y])` if it requires multiple inputs.), e.g. `densor(X)` will propagate X through the `Dense(1)` layer defined above."
   ]
  },
  {
   "cell_type": "code",
   "execution_count": 7,
   "metadata": {},
   "outputs": [],
   "source": [
    "# GRADED FUNCTION: one_step_attention\n",
    "\n",
    "def one_step_attention(a, s_prev):\n",
    "    \"\"\"\n",
    "    Performs one step of attention: Outputs a context vector computed as a dot product of the attention weights\n",
    "    \"alphas\" and the hidden states \"a\" of the Bi-LSTM.\n",
    "    \n",
    "    Arguments:\n",
    "    a -- hidden state output of the Bi-LSTM, numpy-array of shape (m, Tx, 2*n_a)\n",
    "    s_prev -- previous hidden state of the (post-attention) LSTM, numpy-array of shape (m, n_s)\n",
    "    \n",
    "    Returns:\n",
    "    context -- context vector, input of the next (post-attetion) LSTM cell\n",
    "    \"\"\"\n",
    "    \n",
    "    ### START CODE HERE ###\n",
    "    # Use repeator to repeat s_prev to be of shape (m, Tx, n_s) so that you can concatenate it with all hidden states \"a\" (≈ 1 line)\n",
    "    s_prev = repeator(s_prev)\n",
    "    # Use concatenator to concatenate a and s_prev on the last axis (≈ 1 line)\n",
    "    concat = concatenator([a, s_prev])\n",
    "    # Use densor1 to propagate concat through a small fully-connected neural network to compute the \"intermediate energies\" variable e. (≈1 lines)\n",
    "    e = densor1(concat)\n",
    "    # Use densor2 to propagate e through a small fully-connected neural network to compute the \"energies\" variable energies. (≈1 lines)\n",
    "    energies = densor2(e)\n",
    "    # Use \"activator\" on \"energies\" to compute the attention weights \"alphas\" (≈ 1 line)\n",
    "    alphas = activator(energies)\n",
    "    # Use dotor together with \"alphas\" and \"a\" to compute the context vector to be given to the next (post-attention) LSTM-cell (≈ 1 line)\n",
    "    context = dotor([alphas, a])\n",
    "    ### END CODE HERE ###\n",
    "    \n",
    "    return context"
   ]
  },
  {
   "cell_type": "markdown",
   "metadata": {},
   "source": [
    "You will be able to check the expected output of `one_step_attention()` after you've coded the `model()` function."
   ]
  },
  {
   "cell_type": "markdown",
   "metadata": {},
   "source": [
    "**Exercise**: Implement `model()` as explained in figure 2 and the text above. Again, we have defined global layers that will share weights to be used in `model()`."
   ]
  },
  {
   "cell_type": "code",
   "execution_count": 8,
   "metadata": {},
   "outputs": [],
   "source": [
    "n_a = 32\n",
    "n_s = 64\n",
    "post_activation_LSTM_cell = LSTM(n_s, return_state = True)\n",
    "output_layer = Dense(len(machine_vocab), activation=softmax)"
   ]
  },
  {
   "cell_type": "markdown",
   "metadata": {},
   "source": [
    "Now you can use these layers $T_y$ times in a `for` loop to generate the outputs, and their parameters will not be reinitialized. You will have to carry out the following steps: \n",
    "\n",
    "1. Propagate the input into a [Bidirectional](https://keras.io/layers/wrappers/#bidirectional) [LSTM](https://keras.io/layers/recurrent/#lstm)\n",
    "2. Iterate for $t = 0, \\dots, T_y-1$: \n",
    "    1. Call `one_step_attention()` on $[\\alpha^{<t,1>},\\alpha^{<t,2>}, ..., \\alpha^{<t,T_x>}]$ and $s^{<t-1>}$ to get the context vector $context^{<t>}$.\n",
    "    2. Give $context^{<t>}$ to the post-attention LSTM cell. Remember pass in the previous hidden-state $s^{\\langle t-1\\rangle}$ and cell-states $c^{\\langle t-1\\rangle}$ of this LSTM using `initial_state= [previous hidden state, previous cell state]`. Get back the new hidden state $s^{<t>}$ and the new cell state $c^{<t>}$.\n",
    "    3. Apply a softmax layer to $s^{<t>}$, get the output. \n",
    "    4. Save the output by adding it to the list of outputs.\n",
    "\n",
    "3. Create your Keras model instance, it should have three inputs (\"inputs\", $s^{<0>}$ and $c^{<0>}$) and output the list of \"outputs\"."
   ]
  },
  {
   "cell_type": "code",
   "execution_count": 9,
   "metadata": {},
   "outputs": [],
   "source": [
    "# GRADED FUNCTION: model\n",
    "\n",
    "def model(Tx, Ty, n_a, n_s, human_vocab_size, machine_vocab_size):\n",
    "    \"\"\"\n",
    "    Arguments:\n",
    "    Tx -- length of the input sequence\n",
    "    Ty -- length of the output sequence\n",
    "    n_a -- hidden state size of the Bi-LSTM\n",
    "    n_s -- hidden state size of the post-attention LSTM\n",
    "    human_vocab_size -- size of the python dictionary \"human_vocab\"\n",
    "    machine_vocab_size -- size of the python dictionary \"machine_vocab\"\n",
    "\n",
    "    Returns:\n",
    "    model -- Keras model instance\n",
    "    \"\"\"\n",
    "    \n",
    "    # Define the inputs of your model with a shape (Tx,)\n",
    "    # Define s0 and c0, initial hidden state for the decoder LSTM of shape (n_s,)\n",
    "    X = Input(shape=(Tx, human_vocab_size))\n",
    "    s0 = Input(shape=(n_s,), name='s0')\n",
    "    c0 = Input(shape=(n_s,), name='c0')\n",
    "    s = s0\n",
    "    c = c0\n",
    "    \n",
    "    # Initialize empty list of outputs\n",
    "    outputs = []\n",
    "    \n",
    "    ### START CODE HERE ###\n",
    "    \n",
    "    # Step 1: Define your pre-attention Bi-LSTM. Remember to use return_sequences=True. (≈ 1 line)\n",
    "    a = Bidirectional(LSTM(n_a, return_sequences=True),input_shape=(m, Tx, n_a*2))(X)\n",
    "    \n",
    "    # Step 2: Iterate for Ty steps\n",
    "    for t in range(Ty):\n",
    "    \n",
    "        # Step 2.A: Perform one step of the attention mechanism to get back the context vector at step t (≈ 1 line)\n",
    "        context = one_step_attention(a, s)\n",
    "        \n",
    "        # Step 2.B: Apply the post-attention LSTM cell to the \"context\" vector.\n",
    "        # Don't forget to pass: initial_state = [hidden state, cell state] (≈ 1 line)\n",
    "        s, _, c = post_activation_LSTM_cell(context, initial_state = [s, c])\n",
    "        \n",
    "        # Step 2.C: Apply Dense layer to the hidden state output of the post-attention LSTM (≈ 1 line)\n",
    "        out = output_layer(s)\n",
    "        \n",
    "        # Step 2.D: Append \"out\" to the \"outputs\" list (≈ 1 line)\n",
    "        outputs.append(out) \n",
    "    \n",
    "    # Step 3: Create model instance taking three inputs and returning the list of outputs. (≈ 1 line)\n",
    "    model = Model(inputs= [X, s0, c0], outputs= outputs)\n",
    "    \n",
    "    ### END CODE HERE ###\n",
    "    \n",
    "    return model"
   ]
  },
  {
   "cell_type": "markdown",
   "metadata": {},
   "source": [
    "Run the following cell to create your model."
   ]
  },
  {
   "cell_type": "code",
   "execution_count": 10,
   "metadata": {},
   "outputs": [],
   "source": [
    "model = model(Tx, Ty, n_a, n_s, len(human_vocab), len(machine_vocab))"
   ]
  },
  {
   "cell_type": "markdown",
   "metadata": {},
   "source": [
    "Let's get a summary of the model to check if it matches the expected output."
   ]
  },
  {
   "cell_type": "code",
   "execution_count": 11,
   "metadata": {},
   "outputs": [
    {
     "name": "stdout",
     "output_type": "stream",
     "text": [
      "__________________________________________________________________________________________________\n",
      "Layer (type)                    Output Shape         Param #     Connected to                     \n",
      "==================================================================================================\n",
      "input_1 (InputLayer)            (None, 30, 37)       0                                            \n",
      "__________________________________________________________________________________________________\n",
      "s0 (InputLayer)                 (None, 64)           0                                            \n",
      "__________________________________________________________________________________________________\n",
      "bidirectional_1 (Bidirectional) (None, 30, 64)       17920       input_1[0][0]                    \n",
      "__________________________________________________________________________________________________\n",
      "repeat_vector_1 (RepeatVector)  (None, 30, 64)       0           s0[0][0]                         \n",
      "                                                                 lstm_1[0][0]                     \n",
      "                                                                 lstm_1[1][0]                     \n",
      "                                                                 lstm_1[2][0]                     \n",
      "                                                                 lstm_1[3][0]                     \n",
      "                                                                 lstm_1[4][0]                     \n",
      "                                                                 lstm_1[5][0]                     \n",
      "                                                                 lstm_1[6][0]                     \n",
      "                                                                 lstm_1[7][0]                     \n",
      "                                                                 lstm_1[8][0]                     \n",
      "__________________________________________________________________________________________________\n",
      "concatenate_1 (Concatenate)     (None, 30, 128)      0           bidirectional_1[0][0]            \n",
      "                                                                 repeat_vector_1[0][0]            \n",
      "                                                                 bidirectional_1[0][0]            \n",
      "                                                                 repeat_vector_1[1][0]            \n",
      "                                                                 bidirectional_1[0][0]            \n",
      "                                                                 repeat_vector_1[2][0]            \n",
      "                                                                 bidirectional_1[0][0]            \n",
      "                                                                 repeat_vector_1[3][0]            \n",
      "                                                                 bidirectional_1[0][0]            \n",
      "                                                                 repeat_vector_1[4][0]            \n",
      "                                                                 bidirectional_1[0][0]            \n",
      "                                                                 repeat_vector_1[5][0]            \n",
      "                                                                 bidirectional_1[0][0]            \n",
      "                                                                 repeat_vector_1[6][0]            \n",
      "                                                                 bidirectional_1[0][0]            \n",
      "                                                                 repeat_vector_1[7][0]            \n",
      "                                                                 bidirectional_1[0][0]            \n",
      "                                                                 repeat_vector_1[8][0]            \n",
      "                                                                 bidirectional_1[0][0]            \n",
      "                                                                 repeat_vector_1[9][0]            \n",
      "__________________________________________________________________________________________________\n",
      "dense_1 (Dense)                 (None, 30, 10)       1290        concatenate_1[0][0]              \n",
      "                                                                 concatenate_1[1][0]              \n",
      "                                                                 concatenate_1[2][0]              \n",
      "                                                                 concatenate_1[3][0]              \n",
      "                                                                 concatenate_1[4][0]              \n",
      "                                                                 concatenate_1[5][0]              \n",
      "                                                                 concatenate_1[6][0]              \n",
      "                                                                 concatenate_1[7][0]              \n",
      "                                                                 concatenate_1[8][0]              \n",
      "                                                                 concatenate_1[9][0]              \n",
      "__________________________________________________________________________________________________\n",
      "dense_2 (Dense)                 (None, 30, 1)        11          dense_1[0][0]                    \n",
      "                                                                 dense_1[1][0]                    \n",
      "                                                                 dense_1[2][0]                    \n",
      "                                                                 dense_1[3][0]                    \n",
      "                                                                 dense_1[4][0]                    \n",
      "                                                                 dense_1[5][0]                    \n",
      "                                                                 dense_1[6][0]                    \n",
      "                                                                 dense_1[7][0]                    \n",
      "                                                                 dense_1[8][0]                    \n",
      "                                                                 dense_1[9][0]                    \n",
      "__________________________________________________________________________________________________\n",
      "attention_weights (Activation)  (None, 30, 1)        0           dense_2[0][0]                    \n",
      "                                                                 dense_2[1][0]                    \n",
      "                                                                 dense_2[2][0]                    \n",
      "                                                                 dense_2[3][0]                    \n",
      "                                                                 dense_2[4][0]                    \n",
      "                                                                 dense_2[5][0]                    \n",
      "                                                                 dense_2[6][0]                    \n",
      "                                                                 dense_2[7][0]                    \n",
      "                                                                 dense_2[8][0]                    \n",
      "                                                                 dense_2[9][0]                    \n",
      "__________________________________________________________________________________________________\n",
      "dot_1 (Dot)                     (None, 1, 64)        0           attention_weights[0][0]          \n",
      "                                                                 bidirectional_1[0][0]            \n",
      "                                                                 attention_weights[1][0]          \n",
      "                                                                 bidirectional_1[0][0]            \n",
      "                                                                 attention_weights[2][0]          \n",
      "                                                                 bidirectional_1[0][0]            \n",
      "                                                                 attention_weights[3][0]          \n",
      "                                                                 bidirectional_1[0][0]            \n",
      "                                                                 attention_weights[4][0]          \n",
      "                                                                 bidirectional_1[0][0]            \n",
      "                                                                 attention_weights[5][0]          \n",
      "                                                                 bidirectional_1[0][0]            \n",
      "                                                                 attention_weights[6][0]          \n",
      "                                                                 bidirectional_1[0][0]            \n",
      "                                                                 attention_weights[7][0]          \n",
      "                                                                 bidirectional_1[0][0]            \n",
      "                                                                 attention_weights[8][0]          \n",
      "                                                                 bidirectional_1[0][0]            \n",
      "                                                                 attention_weights[9][0]          \n",
      "                                                                 bidirectional_1[0][0]            \n",
      "__________________________________________________________________________________________________\n",
      "c0 (InputLayer)                 (None, 64)           0                                            \n",
      "__________________________________________________________________________________________________\n",
      "lstm_1 (LSTM)                   [(None, 64), (None,  33024       dot_1[0][0]                      \n",
      "                                                                 s0[0][0]                         \n",
      "                                                                 c0[0][0]                         \n",
      "                                                                 dot_1[1][0]                      \n",
      "                                                                 lstm_1[0][0]                     \n",
      "                                                                 lstm_1[0][2]                     \n",
      "                                                                 dot_1[2][0]                      \n",
      "                                                                 lstm_1[1][0]                     \n",
      "                                                                 lstm_1[1][2]                     \n",
      "                                                                 dot_1[3][0]                      \n",
      "                                                                 lstm_1[2][0]                     \n",
      "                                                                 lstm_1[2][2]                     \n",
      "                                                                 dot_1[4][0]                      \n",
      "                                                                 lstm_1[3][0]                     \n",
      "                                                                 lstm_1[3][2]                     \n",
      "                                                                 dot_1[5][0]                      \n",
      "                                                                 lstm_1[4][0]                     \n",
      "                                                                 lstm_1[4][2]                     \n",
      "                                                                 dot_1[6][0]                      \n",
      "                                                                 lstm_1[5][0]                     \n",
      "                                                                 lstm_1[5][2]                     \n",
      "                                                                 dot_1[7][0]                      \n",
      "                                                                 lstm_1[6][0]                     \n",
      "                                                                 lstm_1[6][2]                     \n",
      "                                                                 dot_1[8][0]                      \n",
      "                                                                 lstm_1[7][0]                     \n",
      "                                                                 lstm_1[7][2]                     \n",
      "                                                                 dot_1[9][0]                      \n",
      "                                                                 lstm_1[8][0]                     \n",
      "                                                                 lstm_1[8][2]                     \n",
      "__________________________________________________________________________________________________\n",
      "dense_3 (Dense)                 (None, 11)           715         lstm_1[0][0]                     \n",
      "                                                                 lstm_1[1][0]                     \n",
      "                                                                 lstm_1[2][0]                     \n",
      "                                                                 lstm_1[3][0]                     \n",
      "                                                                 lstm_1[4][0]                     \n",
      "                                                                 lstm_1[5][0]                     \n",
      "                                                                 lstm_1[6][0]                     \n",
      "                                                                 lstm_1[7][0]                     \n",
      "                                                                 lstm_1[8][0]                     \n",
      "                                                                 lstm_1[9][0]                     \n",
      "==================================================================================================\n",
      "Total params: 52,960\n",
      "Trainable params: 52,960\n",
      "Non-trainable params: 0\n",
      "__________________________________________________________________________________________________\n"
     ]
    }
   ],
   "source": [
    "model.summary()"
   ]
  },
  {
   "cell_type": "markdown",
   "metadata": {},
   "source": [
    "**Expected Output**:\n",
    "\n",
    "Here is the summary you should see\n",
    "<table>\n",
    "    <tr>\n",
    "        <td>\n",
    "            **Total params:**\n",
    "        </td>\n",
    "        <td>\n",
    "         52,960\n",
    "        </td>\n",
    "    </tr>\n",
    "        <tr>\n",
    "        <td>\n",
    "            **Trainable params:**\n",
    "        </td>\n",
    "        <td>\n",
    "         52,960\n",
    "        </td>\n",
    "    </tr>\n",
    "            <tr>\n",
    "        <td>\n",
    "            **Non-trainable params:**\n",
    "        </td>\n",
    "        <td>\n",
    "         0\n",
    "        </td>\n",
    "    </tr>\n",
    "                    <tr>\n",
    "        <td>\n",
    "            **bidirectional_1's output shape **\n",
    "        </td>\n",
    "        <td>\n",
    "         (None, 30, 64)  \n",
    "        </td>\n",
    "    </tr>\n",
    "    <tr>\n",
    "        <td>\n",
    "            **repeat_vector_1's output shape **\n",
    "        </td>\n",
    "        <td>\n",
    "         (None, 30, 64) \n",
    "        </td>\n",
    "    </tr>\n",
    "                <tr>\n",
    "        <td>\n",
    "            **concatenate_1's output shape **\n",
    "        </td>\n",
    "        <td>\n",
    "         (None, 30, 128) \n",
    "        </td>\n",
    "    </tr>\n",
    "            <tr>\n",
    "        <td>\n",
    "            **attention_weights's output shape **\n",
    "        </td>\n",
    "        <td>\n",
    "         (None, 30, 1)  \n",
    "        </td>\n",
    "    </tr>\n",
    "        <tr>\n",
    "        <td>\n",
    "            **dot_1's output shape **\n",
    "        </td>\n",
    "        <td>\n",
    "         (None, 1, 64)\n",
    "        </td>\n",
    "    </tr>\n",
    "           <tr>\n",
    "        <td>\n",
    "            **dense_3's output shape **\n",
    "        </td>\n",
    "        <td>\n",
    "         (None, 11) \n",
    "        </td>\n",
    "    </tr>\n",
    "</table>\n"
   ]
  },
  {
   "cell_type": "markdown",
   "metadata": {},
   "source": [
    "As usual, after creating your model in Keras, you need to compile it and define what loss, optimizer and metrics your are want to use. Compile your model using `categorical_crossentropy` loss, a custom [Adam](https://keras.io/optimizers/#adam) [optimizer](https://keras.io/optimizers/#usage-of-optimizers) (`learning rate = 0.005`, $\\beta_1 = 0.9$, $\\beta_2 = 0.999$, `decay = 0.01`)  and `['accuracy']` metrics:"
   ]
  },
  {
   "cell_type": "code",
   "execution_count": 18,
   "metadata": {},
   "outputs": [],
   "source": [
    "### START CODE HERE ### (≈2 lines)\n",
    "opt = Adam(lr=0.005, beta_1=0.9, beta_2=0.999, epsilon=None, decay=0.01, amsgrad=False)\n",
    "model.compile(loss='categorical_crossentropy', optimizer=opt, metrics=['accuracy'])\n",
    "### END CODE HERE ###"
   ]
  },
  {
   "cell_type": "markdown",
   "metadata": {},
   "source": [
    "The last step is to define all your inputs and outputs to fit the model:\n",
    "- You already have X of shape $(m = 10000, T_x = 30)$ containing the training examples.\n",
    "- You need to create `s0` and `c0` to initialize your `post_activation_LSTM_cell` with 0s.\n",
    "- Given the `model()` you coded, you need the \"outputs\" to be a list of 11 elements of shape (m, T_y). So that: `outputs[i][0], ..., outputs[i][Ty]` represent the true labels (characters) corresponding to the $i^{th}$ training example (`X[i]`). More generally, `outputs[i][j]` is the true label of the $j^{th}$ character in the $i^{th}$ training example."
   ]
  },
  {
   "cell_type": "code",
   "execution_count": 19,
   "metadata": {},
   "outputs": [],
   "source": [
    "s0 = np.zeros((m, n_s))\n",
    "c0 = np.zeros((m, n_s))\n",
    "outputs = list(Yoh.swapaxes(0,1))"
   ]
  },
  {
   "cell_type": "markdown",
   "metadata": {},
   "source": [
    "Let's now fit the model and run it for one epoch."
   ]
  },
  {
   "cell_type": "code",
   "execution_count": 20,
   "metadata": {},
   "outputs": [
    {
     "name": "stdout",
     "output_type": "stream",
     "text": [
      "Epoch 1/1\n"
     ]
    },
    {
     "name": "stdout",
     "output_type": "stream",
     "text": [
      " 2900/10000 [=======>......................] - ETA: 13:37 - loss: 10.0877 - dense_3_loss: 2.2006 - dense_3_acc: 0.9700 - dense_3_acc_1: 0.9900 - dense_3_acc_2: 0.5200 - dense_3_acc_3: 0.0900 - dense_3_acc_4: 1.0000 - dense_3_acc_5: 0.8200 - dense_3_acc_6: 0.2300 - dense_3_acc_7: 1.0000 - dense_3_acc_8: 0.4100 - dense_3_acc_9: 0.23 - ETA: 6:48 - loss: 15.2076 - dense_3_loss: 2.5702 - dense_3_acc: 0.7000 - dense_3_acc_1: 0.7100 - dense_3_acc_2: 0.3700 - dense_3_acc_3: 0.1000 - dense_3_acc_4: 1.0000 - dense_3_acc_5: 0.7750 - dense_3_acc_6: 0.1500 - dense_3_acc_7: 1.0000 - dense_3_acc_8: 0.3300 - dense_3_acc_9: 0.1800 - ETA: 4:32 - loss: 18.2755 - dense_3_loss: 2.5682 - dense_3_acc: 0.6000 - dense_3_acc_1: 0.5733 - dense_3_acc_2: 0.2967 - dense_3_acc_3: 0.0667 - dense_3_acc_4: 0.7600 - dense_3_acc_5: 0.6667 - dense_3_acc_6: 0.1100 - dense_3_acc_7: 0.7800 - dense_3_acc_8: 0.3100 - dense_3_acc_9: 0.163 - ETA: 3:24 - loss: 17.6906 - dense_3_loss: 2.5973 - dense_3_acc: 0.5350 - dense_3_acc_1: 0.5150 - dense_3_acc_2: 0.2750 - dense_3_acc_3: 0.0700 - dense_3_acc_4: 0.8200 - dense_3_acc_5: 0.6775 - dense_3_acc_6: 0.1275 - dense_3_acc_7: 0.8350 - dense_3_acc_8: 0.3250 - dense_3_acc_9: 0.147 - ETA: 2:43 - loss: 19.0928 - dense_3_loss: 2.8237 - dense_3_acc: 0.5120 - dense_3_acc_1: 0.4940 - dense_3_acc_2: 0.2660 - dense_3_acc_3: 0.0900 - dense_3_acc_4: 0.8500 - dense_3_acc_5: 0.5420 - dense_3_acc_6: 0.1440 - dense_3_acc_7: 0.6680 - dense_3_acc_8: 0.2600 - dense_3_acc_9: 0.128 - ETA: 2:16 - loss: 18.2525 - dense_3_loss: 2.7910 - dense_3_acc: 0.5550 - dense_3_acc_1: 0.5350 - dense_3_acc_2: 0.2967 - dense_3_acc_3: 0.0950 - dense_3_acc_4: 0.8750 - dense_3_acc_5: 0.5633 - dense_3_acc_6: 0.1467 - dense_3_acc_7: 0.6983 - dense_3_acc_8: 0.2417 - dense_3_acc_9: 0.133 - ETA: 1:56 - loss: 17.3209 - dense_3_loss: 2.7124 - dense_3_acc: 0.5871 - dense_3_acc_1: 0.5743 - dense_3_acc_2: 0.2900 - dense_3_acc_3: 0.0929 - dense_3_acc_4: 0.8929 - dense_3_acc_5: 0.5843 - dense_3_acc_6: 0.1443 - dense_3_acc_7: 0.7414 - dense_3_acc_8: 0.2743 - dense_3_acc_9: 0.135 - ETA: 1:42 - loss: 16.7386 - dense_3_loss: 2.6567 - dense_3_acc: 0.5975 - dense_3_acc_1: 0.5888 - dense_3_acc_2: 0.2975 - dense_3_acc_3: 0.0812 - dense_3_acc_4: 0.9063 - dense_3_acc_5: 0.6087 - dense_3_acc_6: 0.1437 - dense_3_acc_7: 0.7738 - dense_3_acc_8: 0.2975 - dense_3_acc_9: 0.136 - ETA: 1:30 - loss: 16.4339 - dense_3_loss: 2.6148 - dense_3_acc: 0.5989 - dense_3_acc_1: 0.5933 - dense_3_acc_2: 0.3033 - dense_3_acc_3: 0.0722 - dense_3_acc_4: 0.9167 - dense_3_acc_5: 0.6278 - dense_3_acc_6: 0.1411 - dense_3_acc_7: 0.7989 - dense_3_acc_8: 0.3033 - dense_3_acc_9: 0.143 - ETA: 1:21 - loss: 16.1897 - dense_3_loss: 2.5857 - dense_3_acc: 0.6060 - dense_3_acc_1: 0.6020 - dense_3_acc_2: 0.3090 - dense_3_acc_3: 0.0650 - dense_3_acc_4: 0.9250 - dense_3_acc_5: 0.6450 - dense_3_acc_6: 0.1310 - dense_3_acc_7: 0.8190 - dense_3_acc_8: 0.3130 - dense_3_acc_9: 0.144 - ETA: 1:15 - loss: 16.0103 - dense_3_loss: 2.5559 - dense_3_acc: 0.6064 - dense_3_acc_1: 0.6027 - dense_3_acc_2: 0.2982 - dense_3_acc_3: 0.0591 - dense_3_acc_4: 0.9318 - dense_3_acc_5: 0.6591 - dense_3_acc_6: 0.1300 - dense_3_acc_7: 0.8355 - dense_3_acc_8: 0.3155 - dense_3_acc_9: 0.145 - ETA: 1:09 - loss: 15.8261 - dense_3_loss: 2.5327 - dense_3_acc: 0.6083 - dense_3_acc_1: 0.6050 - dense_3_acc_2: 0.2900 - dense_3_acc_3: 0.0550 - dense_3_acc_4: 0.9375 - dense_3_acc_5: 0.6725 - dense_3_acc_6: 0.1300 - dense_3_acc_7: 0.8492 - dense_3_acc_8: 0.3208 - dense_3_acc_9: 0.144 - ETA: 1:04 - loss: 15.6352 - dense_3_loss: 2.5199 - dense_3_acc: 0.6146 - dense_3_acc_1: 0.6115 - dense_3_acc_2: 0.2900 - dense_3_acc_3: 0.0538 - dense_3_acc_4: 0.9423 - dense_3_acc_5: 0.6800 - dense_3_acc_6: 0.1323 - dense_3_acc_7: 0.8608 - dense_3_acc_8: 0.3269 - dense_3_acc_9: 0.143 - ETA: 59s - loss: 15.4298 - dense_3_loss: 2.5144 - dense_3_acc: 0.6171 - dense_3_acc_1: 0.6143 - dense_3_acc_2: 0.2850 - dense_3_acc_3: 0.0536 - dense_3_acc_4: 0.9464 - dense_3_acc_5: 0.6843 - dense_3_acc_6: 0.1364 - dense_3_acc_7: 0.8707 - dense_3_acc_8: 0.3293 - dense_3_acc_9: 0.139 - ETA: 55s - loss: 15.1782 - dense_3_loss: 2.5026 - dense_3_acc: 0.6273 - dense_3_acc_1: 0.6247 - dense_3_acc_2: 0.2933 - dense_3_acc_3: 0.0553 - dense_3_acc_4: 0.9500 - dense_3_acc_5: 0.6933 - dense_3_acc_6: 0.1420 - dense_3_acc_7: 0.8793 - dense_3_acc_8: 0.3300 - dense_3_acc_9: 0.13 - ETA: 52s - loss: 15.0033 - dense_3_loss: 2.4934 - dense_3_acc: 0.6250 - dense_3_acc_1: 0.6231 - dense_3_acc_2: 0.2912 - dense_3_acc_3: 0.0537 - dense_3_acc_4: 0.9531 - dense_3_acc_5: 0.6975 - dense_3_acc_6: 0.1450 - dense_3_acc_7: 0.8869 - dense_3_acc_8: 0.3350 - dense_3_acc_9: 0.13 - ETA: 48s - loss: 14.8284 - dense_3_loss: 2.4858 - dense_3_acc: 0.6224 - dense_3_acc_1: 0.6235 - dense_3_acc_2: 0.2912 - dense_3_acc_3: 0.0535 - dense_3_acc_4: 0.9559 - dense_3_acc_5: 0.6988 - dense_3_acc_6: 0.1482 - dense_3_acc_7: 0.8935 - dense_3_acc_8: 0.3447 - dense_3_acc_9: 0.13 - ETA: 46s - loss: 14.6642 - dense_3_loss: 2.4744 - dense_3_acc: 0.6228 - dense_3_acc_1: 0.6283 - dense_3_acc_2: 0.2933 - dense_3_acc_3: 0.0544 - dense_3_acc_4: 0.9583 - dense_3_acc_5: 0.7017 - dense_3_acc_6: 0.1544 - dense_3_acc_7: 0.8994 - dense_3_acc_8: 0.3494 - dense_3_acc_9: 0.13 - ETA: 43s - loss: 14.5031 - dense_3_loss: 2.4638 - dense_3_acc: 0.6284 - dense_3_acc_1: 0.6363 - dense_3_acc_2: 0.2947 - dense_3_acc_3: 0.0600 - dense_3_acc_4: 0.9605 - dense_3_acc_5: 0.7063 - dense_3_acc_6: 0.1605 - dense_3_acc_7: 0.9047 - dense_3_acc_8: 0.3489 - dense_3_acc_9: 0.13 - ETA: 41s - loss: 14.3701 - dense_3_loss: 2.4558 - dense_3_acc: 0.6270 - dense_3_acc_1: 0.6465 - dense_3_acc_2: 0.3030 - dense_3_acc_3: 0.0620 - dense_3_acc_4: 0.9625 - dense_3_acc_5: 0.7100 - dense_3_acc_6: 0.1670 - dense_3_acc_7: 0.9095 - dense_3_acc_8: 0.3470 - dense_3_acc_9: 0.13 - ETA: 39s - loss: 14.2368 - dense_3_loss: 2.4453 - dense_3_acc: 0.6262 - dense_3_acc_1: 0.6586 - dense_3_acc_2: 0.3076 - dense_3_acc_3: 0.0624 - dense_3_acc_4: 0.9643 - dense_3_acc_5: 0.7076 - dense_3_acc_6: 0.1724 - dense_3_acc_7: 0.9138 - dense_3_acc_8: 0.3510 - dense_3_acc_9: 0.13 - ETA: 37s - loss: 14.1206 - dense_3_loss: 2.4414 - dense_3_acc: 0.6282 - dense_3_acc_1: 0.6723 - dense_3_acc_2: 0.3073 - dense_3_acc_3: 0.0632 - dense_3_acc_4: 0.9659 - dense_3_acc_5: 0.7100 - dense_3_acc_6: 0.1714 - dense_3_acc_7: 0.9177 - dense_3_acc_8: 0.3559 - dense_3_acc_9: 0.13 - ETA: 35s - loss: 14.0018 - dense_3_loss: 2.4362 - dense_3_acc: 0.6300 - dense_3_acc_1: 0.6865 - dense_3_acc_2: 0.3148 - dense_3_acc_3: 0.0657 - dense_3_acc_4: 0.9674 - dense_3_acc_5: 0.7122 - dense_3_acc_6: 0.1717 - dense_3_acc_7: 0.9213 - dense_3_acc_8: 0.3617 - dense_3_acc_9: 0.13 - ETA: 33s - loss: 13.8898 - dense_3_loss: 2.4281 - dense_3_acc: 0.6300 - dense_3_acc_1: 0.6967 - dense_3_acc_2: 0.3233 - dense_3_acc_3: 0.0708 - dense_3_acc_4: 0.9688 - dense_3_acc_5: 0.7142 - dense_3_acc_6: 0.1746 - dense_3_acc_7: 0.9246 - dense_3_acc_8: 0.3650 - dense_3_acc_9: 0.13 - ETA: 32s - loss: 13.7934 - dense_3_loss: 2.4252 - dense_3_acc: 0.6316 - dense_3_acc_1: 0.7056 - dense_3_acc_2: 0.3284 - dense_3_acc_3: 0.0744 - dense_3_acc_4: 0.9700 - dense_3_acc_5: 0.7140 - dense_3_acc_6: 0.1768 - dense_3_acc_7: 0.9276 - dense_3_acc_8: 0.3684 - dense_3_acc_9: 0.13 - ETA: 30s - loss: 13.7051 - dense_3_loss: 2.4219 - dense_3_acc: 0.6338 - dense_3_acc_1: 0.7150 - dense_3_acc_2: 0.3288 - dense_3_acc_3: 0.0773 - dense_3_acc_4: 0.9712 - dense_3_acc_5: 0.7146 - dense_3_acc_6: 0.1765 - dense_3_acc_7: 0.9304 - dense_3_acc_8: 0.3692 - dense_3_acc_9: 0.12 - ETA: 29s - loss: 13.6108 - dense_3_loss: 2.4171 - dense_3_acc: 0.6374 - dense_3_acc_1: 0.7244 - dense_3_acc_2: 0.3311 - dense_3_acc_3: 0.0789 - dense_3_acc_4: 0.9722 - dense_3_acc_5: 0.7130 - dense_3_acc_6: 0.1793 - dense_3_acc_7: 0.9330 - dense_3_acc_8: 0.3737 - dense_3_acc_9: 0.12 - ETA: 28s - loss: 13.5222 - dense_3_loss: 2.4115 - dense_3_acc: 0.6421 - dense_3_acc_1: 0.7336 - dense_3_acc_2: 0.3336 - dense_3_acc_3: 0.0804 - dense_3_acc_4: 0.9732 - dense_3_acc_5: 0.7136 - dense_3_acc_6: 0.1814 - dense_3_acc_7: 0.9354 - dense_3_acc_8: 0.3750 - dense_3_acc_9: 0.12 - ETA: 27s - loss: 13.4345 - dense_3_loss: 2.4062 - dense_3_acc: 0.6455 - dense_3_acc_1: 0.7407 - dense_3_acc_2: 0.3379 - dense_3_acc_3: 0.0803 - dense_3_acc_4: 0.9741 - dense_3_acc_5: 0.7141 - dense_3_acc_6: 0.1859 - dense_3_acc_7: 0.9376 - dense_3_acc_8: 0.3797 - dense_3_acc_9: 0.12 5800/10000 [================>.............] - ETA: 26s - loss: 13.3539 - dense_3_loss: 2.4017 - dense_3_acc: 0.6497 - dense_3_acc_1: 0.7483 - dense_3_acc_2: 0.3383 - dense_3_acc_3: 0.0807 - dense_3_acc_4: 0.9750 - dense_3_acc_5: 0.7167 - dense_3_acc_6: 0.1873 - dense_3_acc_7: 0.9397 - dense_3_acc_8: 0.3827 - dense_3_acc_9: 0.12 - ETA: 25s - loss: 13.2789 - dense_3_loss: 2.3977 - dense_3_acc: 0.6510 - dense_3_acc_1: 0.7542 - dense_3_acc_2: 0.3403 - dense_3_acc_3: 0.0829 - dense_3_acc_4: 0.9758 - dense_3_acc_5: 0.7194 - dense_3_acc_6: 0.1906 - dense_3_acc_7: 0.9416 - dense_3_acc_8: 0.3868 - dense_3_acc_9: 0.12 - ETA: 24s - loss: 13.2096 - dense_3_loss: 2.3942 - dense_3_acc: 0.6538 - dense_3_acc_1: 0.7609 - dense_3_acc_2: 0.3412 - dense_3_acc_3: 0.0825 - dense_3_acc_4: 0.9766 - dense_3_acc_5: 0.7197 - dense_3_acc_6: 0.1906 - dense_3_acc_7: 0.9434 - dense_3_acc_8: 0.3903 - dense_3_acc_9: 0.12 - ETA: 23s - loss: 13.1375 - dense_3_loss: 2.3898 - dense_3_acc: 0.6576 - dense_3_acc_1: 0.7667 - dense_3_acc_2: 0.3415 - dense_3_acc_3: 0.0821 - dense_3_acc_4: 0.9773 - dense_3_acc_5: 0.7233 - dense_3_acc_6: 0.1909 - dense_3_acc_7: 0.9452 - dense_3_acc_8: 0.3897 - dense_3_acc_9: 0.12 - ETA: 23s - loss: 13.0683 - dense_3_loss: 2.3853 - dense_3_acc: 0.6635 - dense_3_acc_1: 0.7724 - dense_3_acc_2: 0.3447 - dense_3_acc_3: 0.0832 - dense_3_acc_4: 0.9779 - dense_3_acc_5: 0.7241 - dense_3_acc_6: 0.1921 - dense_3_acc_7: 0.9468 - dense_3_acc_8: 0.3885 - dense_3_acc_9: 0.12 - ETA: 22s - loss: 13.0042 - dense_3_loss: 2.3819 - dense_3_acc: 0.6691 - dense_3_acc_1: 0.7780 - dense_3_acc_2: 0.3457 - dense_3_acc_3: 0.0851 - dense_3_acc_4: 0.9786 - dense_3_acc_5: 0.7254 - dense_3_acc_6: 0.1923 - dense_3_acc_7: 0.9483 - dense_3_acc_8: 0.3869 - dense_3_acc_9: 0.12 - ETA: 21s - loss: 12.9414 - dense_3_loss: 2.3784 - dense_3_acc: 0.6722 - dense_3_acc_1: 0.7828 - dense_3_acc_2: 0.3478 - dense_3_acc_3: 0.0864 - dense_3_acc_4: 0.9792 - dense_3_acc_5: 0.7261 - dense_3_acc_6: 0.1928 - dense_3_acc_7: 0.9497 - dense_3_acc_8: 0.3886 - dense_3_acc_9: 0.12 - ETA: 20s - loss: 12.8829 - dense_3_loss: 2.3741 - dense_3_acc: 0.6751 - dense_3_acc_1: 0.7865 - dense_3_acc_2: 0.3489 - dense_3_acc_3: 0.0878 - dense_3_acc_4: 0.9797 - dense_3_acc_5: 0.7289 - dense_3_acc_6: 0.1916 - dense_3_acc_7: 0.9511 - dense_3_acc_8: 0.3884 - dense_3_acc_9: 0.12 - ETA: 19s - loss: 12.8255 - dense_3_loss: 2.3704 - dense_3_acc: 0.6795 - dense_3_acc_1: 0.7911 - dense_3_acc_2: 0.3516 - dense_3_acc_3: 0.0879 - dense_3_acc_4: 0.9803 - dense_3_acc_5: 0.7295 - dense_3_acc_6: 0.1911 - dense_3_acc_7: 0.9524 - dense_3_acc_8: 0.3884 - dense_3_acc_9: 0.13 - ETA: 19s - loss: 12.7667 - dense_3_loss: 2.3668 - dense_3_acc: 0.6862 - dense_3_acc_1: 0.7956 - dense_3_acc_2: 0.3526 - dense_3_acc_3: 0.0887 - dense_3_acc_4: 0.9808 - dense_3_acc_5: 0.7297 - dense_3_acc_6: 0.1910 - dense_3_acc_7: 0.9536 - dense_3_acc_8: 0.3867 - dense_3_acc_9: 0.13 - ETA: 18s - loss: 12.7103 - dense_3_loss: 2.3626 - dense_3_acc: 0.6920 - dense_3_acc_1: 0.7998 - dense_3_acc_2: 0.3525 - dense_3_acc_3: 0.0892 - dense_3_acc_4: 0.9813 - dense_3_acc_5: 0.7305 - dense_3_acc_6: 0.1902 - dense_3_acc_7: 0.9548 - dense_3_acc_8: 0.3840 - dense_3_acc_9: 0.13 - ETA: 17s - loss: 12.6577 - dense_3_loss: 2.3593 - dense_3_acc: 0.6973 - dense_3_acc_1: 0.8041 - dense_3_acc_2: 0.3539 - dense_3_acc_3: 0.0895 - dense_3_acc_4: 0.9817 - dense_3_acc_5: 0.7300 - dense_3_acc_6: 0.1893 - dense_3_acc_7: 0.9559 - dense_3_acc_8: 0.3866 - dense_3_acc_9: 0.13 - ETA: 17s - loss: 12.6053 - dense_3_loss: 2.3557 - dense_3_acc: 0.7033 - dense_3_acc_1: 0.8081 - dense_3_acc_2: 0.3548 - dense_3_acc_3: 0.0900 - dense_3_acc_4: 0.9821 - dense_3_acc_5: 0.7310 - dense_3_acc_6: 0.1902 - dense_3_acc_7: 0.9569 - dense_3_acc_8: 0.3893 - dense_3_acc_9: 0.13 - ETA: 16s - loss: 12.5561 - dense_3_loss: 2.3537 - dense_3_acc: 0.7077 - dense_3_acc_1: 0.8116 - dense_3_acc_2: 0.3574 - dense_3_acc_3: 0.0923 - dense_3_acc_4: 0.9826 - dense_3_acc_5: 0.7319 - dense_3_acc_6: 0.1912 - dense_3_acc_7: 0.9579 - dense_3_acc_8: 0.3916 - dense_3_acc_9: 0.13 - ETA: 16s - loss: 12.5093 - dense_3_loss: 2.3506 - dense_3_acc: 0.7125 - dense_3_acc_1: 0.8141 - dense_3_acc_2: 0.3595 - dense_3_acc_3: 0.0934 - dense_3_acc_4: 0.9830 - dense_3_acc_5: 0.7339 - dense_3_acc_6: 0.1911 - dense_3_acc_7: 0.9589 - dense_3_acc_8: 0.3948 - dense_3_acc_9: 0.13 - ETA: 15s - loss: 12.4662 - dense_3_loss: 2.3483 - dense_3_acc: 0.7182 - dense_3_acc_1: 0.8180 - dense_3_acc_2: 0.3611 - dense_3_acc_3: 0.0942 - dense_3_acc_4: 0.9833 - dense_3_acc_5: 0.7344 - dense_3_acc_6: 0.1913 - dense_3_acc_7: 0.9598 - dense_3_acc_8: 0.3962 - dense_3_acc_9: 0.13 - ETA: 15s - loss: 12.4272 - dense_3_loss: 2.3457 - dense_3_acc: 0.7226 - dense_3_acc_1: 0.8204 - dense_3_acc_2: 0.3611 - dense_3_acc_3: 0.0939 - dense_3_acc_4: 0.9837 - dense_3_acc_5: 0.7343 - dense_3_acc_6: 0.1920 - dense_3_acc_7: 0.9607 - dense_3_acc_8: 0.3965 - dense_3_acc_9: 0.13 - ETA: 14s - loss: 12.3822 - dense_3_loss: 2.3432 - dense_3_acc: 0.7277 - dense_3_acc_1: 0.8232 - dense_3_acc_2: 0.3606 - dense_3_acc_3: 0.0947 - dense_3_acc_4: 0.9840 - dense_3_acc_5: 0.7323 - dense_3_acc_6: 0.1943 - dense_3_acc_7: 0.9615 - dense_3_acc_8: 0.3989 - dense_3_acc_9: 0.13 - ETA: 14s - loss: 12.3396 - dense_3_loss: 2.3392 - dense_3_acc: 0.7321 - dense_3_acc_1: 0.8265 - dense_3_acc_2: 0.3612 - dense_3_acc_3: 0.0944 - dense_3_acc_4: 0.9844 - dense_3_acc_5: 0.7331 - dense_3_acc_6: 0.1942 - dense_3_acc_7: 0.9623 - dense_3_acc_8: 0.4006 - dense_3_acc_9: 0.14 - ETA: 13s - loss: 12.2954 - dense_3_loss: 2.3379 - dense_3_acc: 0.7361 - dense_3_acc_1: 0.8298 - dense_3_acc_2: 0.3633 - dense_3_acc_3: 0.0945 - dense_3_acc_4: 0.9847 - dense_3_acc_5: 0.7331 - dense_3_acc_6: 0.1959 - dense_3_acc_7: 0.9631 - dense_3_acc_8: 0.4016 - dense_3_acc_9: 0.14 - ETA: 13s - loss: 12.2540 - dense_3_loss: 2.3349 - dense_3_acc: 0.7392 - dense_3_acc_1: 0.8322 - dense_3_acc_2: 0.3642 - dense_3_acc_3: 0.0952 - dense_3_acc_4: 0.9850 - dense_3_acc_5: 0.7346 - dense_3_acc_6: 0.1974 - dense_3_acc_7: 0.9638 - dense_3_acc_8: 0.4026 - dense_3_acc_9: 0.14 - ETA: 12s - loss: 12.2130 - dense_3_loss: 2.3323 - dense_3_acc: 0.7429 - dense_3_acc_1: 0.8345 - dense_3_acc_2: 0.3665 - dense_3_acc_3: 0.0965 - dense_3_acc_4: 0.9853 - dense_3_acc_5: 0.7353 - dense_3_acc_6: 0.1992 - dense_3_acc_7: 0.9645 - dense_3_acc_8: 0.4047 - dense_3_acc_9: 0.14 - ETA: 12s - loss: 12.1742 - dense_3_loss: 2.3299 - dense_3_acc: 0.7469 - dense_3_acc_1: 0.8365 - dense_3_acc_2: 0.3677 - dense_3_acc_3: 0.0969 - dense_3_acc_4: 0.9856 - dense_3_acc_5: 0.7354 - dense_3_acc_6: 0.2008 - dense_3_acc_7: 0.9652 - dense_3_acc_8: 0.4044 - dense_3_acc_9: 0.14 - ETA: 12s - loss: 12.1358 - dense_3_loss: 2.3279 - dense_3_acc: 0.7504 - dense_3_acc_1: 0.8394 - dense_3_acc_2: 0.3674 - dense_3_acc_3: 0.0968 - dense_3_acc_4: 0.9858 - dense_3_acc_5: 0.7360 - dense_3_acc_6: 0.2021 - dense_3_acc_7: 0.9658 - dense_3_acc_8: 0.4074 - dense_3_acc_9: 0.14 - ETA: 11s - loss: 12.0963 - dense_3_loss: 2.3254 - dense_3_acc: 0.7543 - dense_3_acc_1: 0.8420 - dense_3_acc_2: 0.3681 - dense_3_acc_3: 0.0974 - dense_3_acc_4: 0.9861 - dense_3_acc_5: 0.7374 - dense_3_acc_6: 0.2017 - dense_3_acc_7: 0.9665 - dense_3_acc_8: 0.4094 - dense_3_acc_9: 0.14 - ETA: 11s - loss: 12.0618 - dense_3_loss: 2.3246 - dense_3_acc: 0.7571 - dense_3_acc_1: 0.8442 - dense_3_acc_2: 0.3696 - dense_3_acc_3: 0.0982 - dense_3_acc_4: 0.9864 - dense_3_acc_5: 0.7384 - dense_3_acc_6: 0.2031 - dense_3_acc_7: 0.9671 - dense_3_acc_8: 0.4104 - dense_3_acc_9: 0.14 - ETA: 10s - loss: 12.0233 - dense_3_loss: 2.3221 - dense_3_acc: 0.7602 - dense_3_acc_1: 0.8464 - dense_3_acc_2: 0.3705 - dense_3_acc_3: 0.0989 - dense_3_acc_4: 0.9866 - dense_3_acc_5: 0.7389 - dense_3_acc_6: 0.2052 - dense_3_acc_7: 0.9677 - dense_3_acc_8: 0.4107 - dense_3_acc_9: 0.14 - ETA: 10s - loss: 11.9888 - dense_3_loss: 2.3203 - dense_3_acc: 0.7623 - dense_3_acc_1: 0.8488 - dense_3_acc_2: 0.3735 - dense_3_acc_3: 0.1005 - dense_3_acc_4: 0.9868 - dense_3_acc_5: 0.7395 - dense_3_acc_6: 0.2068 - dense_3_acc_7: 0.9682 - dense_3_acc_8: 0.4107 - dense_3_acc_9: 0.14 - ETA: 10s - loss: 11.9538 - dense_3_loss: 2.3184 - dense_3_acc: 0.7650 - dense_3_acc_1: 0.8509 - dense_3_acc_2: 0.3766 - dense_3_acc_3: 0.1010 - dense_3_acc_4: 0.9871 - dense_3_acc_5: 0.7410 - dense_3_acc_6: 0.2072 - dense_3_acc_7: 0.9688 - dense_3_acc_8: 0.4117 - dense_3_acc_9: 0.1455 8700/10000 [=========================>....] - ETA: 9s - loss: 11.9185 - dense_3_loss: 2.3162 - dense_3_acc: 0.7680 - dense_3_acc_1: 0.8529 - dense_3_acc_2: 0.3785 - dense_3_acc_3: 0.1015 - dense_3_acc_4: 0.9873 - dense_3_acc_5: 0.7417 - dense_3_acc_6: 0.2092 - dense_3_acc_7: 0.9693 - dense_3_acc_8: 0.4134 - dense_3_acc_9: 0.1464 - ETA: 9s - loss: 11.8852 - dense_3_loss: 2.3140 - dense_3_acc: 0.7710 - dense_3_acc_1: 0.8547 - dense_3_acc_2: 0.3802 - dense_3_acc_3: 0.1020 - dense_3_acc_4: 0.9875 - dense_3_acc_5: 0.7413 - dense_3_acc_6: 0.2117 - dense_3_acc_7: 0.9698 - dense_3_acc_8: 0.4160 - dense_3_acc_9: 0.147 - ETA: 9s - loss: 11.8558 - dense_3_loss: 2.3124 - dense_3_acc: 0.7739 - dense_3_acc_1: 0.8567 - dense_3_acc_2: 0.3805 - dense_3_acc_3: 0.1030 - dense_3_acc_4: 0.9877 - dense_3_acc_5: 0.7400 - dense_3_acc_6: 0.2144 - dense_3_acc_7: 0.9703 - dense_3_acc_8: 0.4166 - dense_3_acc_9: 0.148 - ETA: 8s - loss: 11.8244 - dense_3_loss: 2.3102 - dense_3_acc: 0.7769 - dense_3_acc_1: 0.8584 - dense_3_acc_2: 0.3818 - dense_3_acc_3: 0.1042 - dense_3_acc_4: 0.9879 - dense_3_acc_5: 0.7410 - dense_3_acc_6: 0.2161 - dense_3_acc_7: 0.9708 - dense_3_acc_8: 0.4176 - dense_3_acc_9: 0.148 - ETA: 8s - loss: 11.7891 - dense_3_loss: 2.3076 - dense_3_acc: 0.7800 - dense_3_acc_1: 0.8603 - dense_3_acc_2: 0.3830 - dense_3_acc_3: 0.1043 - dense_3_acc_4: 0.9881 - dense_3_acc_5: 0.7416 - dense_3_acc_6: 0.2194 - dense_3_acc_7: 0.9713 - dense_3_acc_8: 0.4184 - dense_3_acc_9: 0.149 - ETA: 8s - loss: 11.7580 - dense_3_loss: 2.3056 - dense_3_acc: 0.7814 - dense_3_acc_1: 0.8614 - dense_3_acc_2: 0.3837 - dense_3_acc_3: 0.1050 - dense_3_acc_4: 0.9883 - dense_3_acc_5: 0.7422 - dense_3_acc_6: 0.2225 - dense_3_acc_7: 0.9717 - dense_3_acc_8: 0.4208 - dense_3_acc_9: 0.150 - ETA: 8s - loss: 11.7287 - dense_3_loss: 2.3045 - dense_3_acc: 0.7834 - dense_3_acc_1: 0.8626 - dense_3_acc_2: 0.3866 - dense_3_acc_3: 0.1051 - dense_3_acc_4: 0.9885 - dense_3_acc_5: 0.7440 - dense_3_acc_6: 0.2246 - dense_3_acc_7: 0.9722 - dense_3_acc_8: 0.4214 - dense_3_acc_9: 0.150 - ETA: 7s - loss: 11.6977 - dense_3_loss: 2.3018 - dense_3_acc: 0.7859 - dense_3_acc_1: 0.8639 - dense_3_acc_2: 0.3888 - dense_3_acc_3: 0.1048 - dense_3_acc_4: 0.9886 - dense_3_acc_5: 0.7450 - dense_3_acc_6: 0.2268 - dense_3_acc_7: 0.9726 - dense_3_acc_8: 0.4217 - dense_3_acc_9: 0.151 - ETA: 7s - loss: 11.6706 - dense_3_loss: 2.3008 - dense_3_acc: 0.7884 - dense_3_acc_1: 0.8652 - dense_3_acc_2: 0.3899 - dense_3_acc_3: 0.1054 - dense_3_acc_4: 0.9888 - dense_3_acc_5: 0.7457 - dense_3_acc_6: 0.2276 - dense_3_acc_7: 0.9730 - dense_3_acc_8: 0.4228 - dense_3_acc_9: 0.152 - ETA: 7s - loss: 11.6414 - dense_3_loss: 2.2990 - dense_3_acc: 0.7907 - dense_3_acc_1: 0.8656 - dense_3_acc_2: 0.3913 - dense_3_acc_3: 0.1059 - dense_3_acc_4: 0.9890 - dense_3_acc_5: 0.7468 - dense_3_acc_6: 0.2297 - dense_3_acc_7: 0.9734 - dense_3_acc_8: 0.4235 - dense_3_acc_9: 0.152 - ETA: 6s - loss: 11.6126 - dense_3_loss: 2.2977 - dense_3_acc: 0.7930 - dense_3_acc_1: 0.8671 - dense_3_acc_2: 0.3933 - dense_3_acc_3: 0.1064 - dense_3_acc_4: 0.9891 - dense_3_acc_5: 0.7483 - dense_3_acc_6: 0.2299 - dense_3_acc_7: 0.9738 - dense_3_acc_8: 0.4249 - dense_3_acc_9: 0.153 - ETA: 6s - loss: 11.5831 - dense_3_loss: 2.2955 - dense_3_acc: 0.7951 - dense_3_acc_1: 0.8687 - dense_3_acc_2: 0.3946 - dense_3_acc_3: 0.1074 - dense_3_acc_4: 0.9893 - dense_3_acc_5: 0.7496 - dense_3_acc_6: 0.2304 - dense_3_acc_7: 0.9741 - dense_3_acc_8: 0.4261 - dense_3_acc_9: 0.154 - ETA: 6s - loss: 11.5524 - dense_3_loss: 2.2937 - dense_3_acc: 0.7977 - dense_3_acc_1: 0.8704 - dense_3_acc_2: 0.3955 - dense_3_acc_3: 0.1070 - dense_3_acc_4: 0.9894 - dense_3_acc_5: 0.7520 - dense_3_acc_6: 0.2335 - dense_3_acc_7: 0.9745 - dense_3_acc_8: 0.4268 - dense_3_acc_9: 0.155 - ETA: 6s - loss: 11.5274 - dense_3_loss: 2.2921 - dense_3_acc: 0.7994 - dense_3_acc_1: 0.8714 - dense_3_acc_2: 0.3957 - dense_3_acc_3: 0.1074 - dense_3_acc_4: 0.9896 - dense_3_acc_5: 0.7532 - dense_3_acc_6: 0.2346 - dense_3_acc_7: 0.9749 - dense_3_acc_8: 0.4283 - dense_3_acc_9: 0.156 - ETA: 5s - loss: 11.5008 - dense_3_loss: 2.2902 - dense_3_acc: 0.8012 - dense_3_acc_1: 0.8727 - dense_3_acc_2: 0.3970 - dense_3_acc_3: 0.1079 - dense_3_acc_4: 0.9897 - dense_3_acc_5: 0.7547 - dense_3_acc_6: 0.2353 - dense_3_acc_7: 0.9752 - dense_3_acc_8: 0.4286 - dense_3_acc_9: 0.156 - ETA: 5s - loss: 11.4751 - dense_3_loss: 2.2886 - dense_3_acc: 0.8028 - dense_3_acc_1: 0.8735 - dense_3_acc_2: 0.3986 - dense_3_acc_3: 0.1085 - dense_3_acc_4: 0.9899 - dense_3_acc_5: 0.7551 - dense_3_acc_6: 0.2372 - dense_3_acc_7: 0.9755 - dense_3_acc_8: 0.4292 - dense_3_acc_9: 0.157 - ETA: 5s - loss: 11.4563 - dense_3_loss: 2.2882 - dense_3_acc: 0.8045 - dense_3_acc_1: 0.8744 - dense_3_acc_2: 0.4000 - dense_3_acc_3: 0.1100 - dense_3_acc_4: 0.9900 - dense_3_acc_5: 0.7557 - dense_3_acc_6: 0.2385 - dense_3_acc_7: 0.9759 - dense_3_acc_8: 0.4297 - dense_3_acc_9: 0.157 - ETA: 5s - loss: 11.4343 - dense_3_loss: 2.2863 - dense_3_acc: 0.8067 - dense_3_acc_1: 0.8745 - dense_3_acc_2: 0.4004 - dense_3_acc_3: 0.1117 - dense_3_acc_4: 0.9901 - dense_3_acc_5: 0.7558 - dense_3_acc_6: 0.2393 - dense_3_acc_7: 0.9762 - dense_3_acc_8: 0.4304 - dense_3_acc_9: 0.158 - ETA: 4s - loss: 11.4085 - dense_3_loss: 2.2830 - dense_3_acc: 0.8087 - dense_3_acc_1: 0.8756 - dense_3_acc_2: 0.3999 - dense_3_acc_3: 0.1138 - dense_3_acc_4: 0.9903 - dense_3_acc_5: 0.7575 - dense_3_acc_6: 0.2409 - dense_3_acc_7: 0.9765 - dense_3_acc_8: 0.4304 - dense_3_acc_9: 0.159 - ETA: 4s - loss: 11.3841 - dense_3_loss: 2.2817 - dense_3_acc: 0.8103 - dense_3_acc_1: 0.8767 - dense_3_acc_2: 0.4014 - dense_3_acc_3: 0.1136 - dense_3_acc_4: 0.9904 - dense_3_acc_5: 0.7585 - dense_3_acc_6: 0.2427 - dense_3_acc_7: 0.9768 - dense_3_acc_8: 0.4327 - dense_3_acc_9: 0.160 - ETA: 4s - loss: 11.3626 - dense_3_loss: 2.2797 - dense_3_acc: 0.8115 - dense_3_acc_1: 0.8775 - dense_3_acc_2: 0.4015 - dense_3_acc_3: 0.1135 - dense_3_acc_4: 0.9905 - dense_3_acc_5: 0.7599 - dense_3_acc_6: 0.2434 - dense_3_acc_7: 0.9771 - dense_3_acc_8: 0.4337 - dense_3_acc_9: 0.160 - ETA: 4s - loss: 11.3352 - dense_3_loss: 2.2774 - dense_3_acc: 0.8134 - dense_3_acc_1: 0.8786 - dense_3_acc_2: 0.4030 - dense_3_acc_3: 0.1147 - dense_3_acc_4: 0.9906 - dense_3_acc_5: 0.7611 - dense_3_acc_6: 0.2450 - dense_3_acc_7: 0.9774 - dense_3_acc_8: 0.4351 - dense_3_acc_9: 0.160 - ETA: 3s - loss: 11.3136 - dense_3_loss: 2.2760 - dense_3_acc: 0.8151 - dense_3_acc_1: 0.8796 - dense_3_acc_2: 0.4054 - dense_3_acc_3: 0.1148 - dense_3_acc_4: 0.9907 - dense_3_acc_5: 0.7620 - dense_3_acc_6: 0.2456 - dense_3_acc_7: 0.9777 - dense_3_acc_8: 0.4358 - dense_3_acc_9: 0.161 - ETA: 3s - loss: 11.2966 - dense_3_loss: 2.2739 - dense_3_acc: 0.8157 - dense_3_acc_1: 0.8800 - dense_3_acc_2: 0.4054 - dense_3_acc_3: 0.1148 - dense_3_acc_4: 0.9909 - dense_3_acc_5: 0.7637 - dense_3_acc_6: 0.2461 - dense_3_acc_7: 0.9779 - dense_3_acc_8: 0.4361 - dense_3_acc_9: 0.162 - ETA: 3s - loss: 11.2759 - dense_3_loss: 2.2729 - dense_3_acc: 0.8177 - dense_3_acc_1: 0.8811 - dense_3_acc_2: 0.4055 - dense_3_acc_3: 0.1153 - dense_3_acc_4: 0.9910 - dense_3_acc_5: 0.7641 - dense_3_acc_6: 0.2478 - dense_3_acc_7: 0.9782 - dense_3_acc_8: 0.4361 - dense_3_acc_9: 0.162 - ETA: 3s - loss: 11.2573 - dense_3_loss: 2.2723 - dense_3_acc: 0.8194 - dense_3_acc_1: 0.8815 - dense_3_acc_2: 0.4057 - dense_3_acc_3: 0.1162 - dense_3_acc_4: 0.9911 - dense_3_acc_5: 0.7649 - dense_3_acc_6: 0.2485 - dense_3_acc_7: 0.9785 - dense_3_acc_8: 0.4364 - dense_3_acc_9: 0.163 - ETA: 3s - loss: 11.2372 - dense_3_loss: 2.2705 - dense_3_acc: 0.8208 - dense_3_acc_1: 0.8820 - dense_3_acc_2: 0.4069 - dense_3_acc_3: 0.1172 - dense_3_acc_4: 0.9912 - dense_3_acc_5: 0.7653 - dense_3_acc_6: 0.2501 - dense_3_acc_7: 0.9787 - dense_3_acc_8: 0.4367 - dense_3_acc_9: 0.164 - ETA: 2s - loss: 11.2159 - dense_3_loss: 2.2695 - dense_3_acc: 0.8223 - dense_3_acc_1: 0.8831 - dense_3_acc_2: 0.4078 - dense_3_acc_3: 0.1174 - dense_3_acc_4: 0.9913 - dense_3_acc_5: 0.7662 - dense_3_acc_6: 0.2521 - dense_3_acc_7: 0.9790 - dense_3_acc_8: 0.4374 - dense_3_acc_9: 0.164 - ETA: 2s - loss: 11.1925 - dense_3_loss: 2.2681 - dense_3_acc: 0.8239 - dense_3_acc_1: 0.8840 - dense_3_acc_2: 0.4099 - dense_3_acc_3: 0.1177 - dense_3_acc_4: 0.9914 - dense_3_acc_5: 0.7675 - dense_3_acc_6: 0.2538 - dense_3_acc_7: 0.9792 - dense_3_acc_8: 0.4394 - dense_3_acc_9: 0.1647"
     ]
    },
    {
     "name": "stdout",
     "output_type": "stream",
     "text": [
      "10000/10000 [==============================] - ETA: 2s - loss: 11.1742 - dense_3_loss: 2.2670 - dense_3_acc: 0.8252 - dense_3_acc_1: 0.8848 - dense_3_acc_2: 0.4106 - dense_3_acc_3: 0.1183 - dense_3_acc_4: 0.9915 - dense_3_acc_5: 0.7685 - dense_3_acc_6: 0.2548 - dense_3_acc_7: 0.9794 - dense_3_acc_8: 0.4407 - dense_3_acc_9: 0.165 - ETA: 2s - loss: 11.1538 - dense_3_loss: 2.2656 - dense_3_acc: 0.8264 - dense_3_acc_1: 0.8857 - dense_3_acc_2: 0.4110 - dense_3_acc_3: 0.1179 - dense_3_acc_4: 0.9916 - dense_3_acc_5: 0.7696 - dense_3_acc_6: 0.2566 - dense_3_acc_7: 0.9797 - dense_3_acc_8: 0.4413 - dense_3_acc_9: 0.166 - ETA: 1s - loss: 11.1330 - dense_3_loss: 2.2652 - dense_3_acc: 0.8279 - dense_3_acc_1: 0.8867 - dense_3_acc_2: 0.4113 - dense_3_acc_3: 0.1184 - dense_3_acc_4: 0.9917 - dense_3_acc_5: 0.7706 - dense_3_acc_6: 0.2578 - dense_3_acc_7: 0.9799 - dense_3_acc_8: 0.4420 - dense_3_acc_9: 0.167 - ETA: 1s - loss: 11.1121 - dense_3_loss: 2.2654 - dense_3_acc: 0.8295 - dense_3_acc_1: 0.8877 - dense_3_acc_2: 0.4114 - dense_3_acc_3: 0.1191 - dense_3_acc_4: 0.9918 - dense_3_acc_5: 0.7712 - dense_3_acc_6: 0.2602 - dense_3_acc_7: 0.9801 - dense_3_acc_8: 0.4429 - dense_3_acc_9: 0.166 - ETA: 1s - loss: 11.0898 - dense_3_loss: 2.2635 - dense_3_acc: 0.8308 - dense_3_acc_1: 0.8886 - dense_3_acc_2: 0.4141 - dense_3_acc_3: 0.1196 - dense_3_acc_4: 0.9918 - dense_3_acc_5: 0.7723 - dense_3_acc_6: 0.2612 - dense_3_acc_7: 0.9803 - dense_3_acc_8: 0.4439 - dense_3_acc_9: 0.167 - ETA: 1s - loss: 11.0738 - dense_3_loss: 2.2631 - dense_3_acc: 0.8320 - dense_3_acc_1: 0.8887 - dense_3_acc_2: 0.4138 - dense_3_acc_3: 0.1200 - dense_3_acc_4: 0.9919 - dense_3_acc_5: 0.7729 - dense_3_acc_6: 0.2624 - dense_3_acc_7: 0.9805 - dense_3_acc_8: 0.4440 - dense_3_acc_9: 0.168 - ETA: 1s - loss: 11.0543 - dense_3_loss: 2.2611 - dense_3_acc: 0.8335 - dense_3_acc_1: 0.8896 - dense_3_acc_2: 0.4145 - dense_3_acc_3: 0.1209 - dense_3_acc_4: 0.9920 - dense_3_acc_5: 0.7732 - dense_3_acc_6: 0.2639 - dense_3_acc_7: 0.9807 - dense_3_acc_8: 0.4445 - dense_3_acc_9: 0.169 - ETA: 0s - loss: 11.0351 - dense_3_loss: 2.2602 - dense_3_acc: 0.8349 - dense_3_acc_1: 0.8903 - dense_3_acc_2: 0.4155 - dense_3_acc_3: 0.1216 - dense_3_acc_4: 0.9921 - dense_3_acc_5: 0.7742 - dense_3_acc_6: 0.2651 - dense_3_acc_7: 0.9809 - dense_3_acc_8: 0.4458 - dense_3_acc_9: 0.170 - ETA: 0s - loss: 11.0160 - dense_3_loss: 2.2588 - dense_3_acc: 0.8363 - dense_3_acc_1: 0.8910 - dense_3_acc_2: 0.4161 - dense_3_acc_3: 0.1223 - dense_3_acc_4: 0.9922 - dense_3_acc_5: 0.7749 - dense_3_acc_6: 0.2664 - dense_3_acc_7: 0.9811 - dense_3_acc_8: 0.4453 - dense_3_acc_9: 0.170 - ETA: 0s - loss: 10.9950 - dense_3_loss: 2.2578 - dense_3_acc: 0.8376 - dense_3_acc_1: 0.8918 - dense_3_acc_2: 0.4175 - dense_3_acc_3: 0.1231 - dense_3_acc_4: 0.9923 - dense_3_acc_5: 0.7758 - dense_3_acc_6: 0.2673 - dense_3_acc_7: 0.9813 - dense_3_acc_8: 0.4468 - dense_3_acc_9: 0.171 - ETA: 0s - loss: 10.9737 - dense_3_loss: 2.2549 - dense_3_acc: 0.8386 - dense_3_acc_1: 0.8924 - dense_3_acc_2: 0.4183 - dense_3_acc_3: 0.1241 - dense_3_acc_4: 0.9923 - dense_3_acc_5: 0.7765 - dense_3_acc_6: 0.2691 - dense_3_acc_7: 0.9815 - dense_3_acc_8: 0.4476 - dense_3_acc_9: 0.173 - ETA: 0s - loss: 10.9554 - dense_3_loss: 2.2541 - dense_3_acc: 0.8399 - dense_3_acc_1: 0.8932 - dense_3_acc_2: 0.4192 - dense_3_acc_3: 0.1241 - dense_3_acc_4: 0.9924 - dense_3_acc_5: 0.7777 - dense_3_acc_6: 0.2714 - dense_3_acc_7: 0.9817 - dense_3_acc_8: 0.4481 - dense_3_acc_9: 0.173 - 19s 2ms/step - loss: 10.9364 - dense_3_loss: 2.2530 - dense_3_acc: 0.8411 - dense_3_acc_1: 0.8939 - dense_3_acc_2: 0.4197 - dense_3_acc_3: 0.1248 - dense_3_acc_4: 0.9925 - dense_3_acc_5: 0.7779 - dense_3_acc_6: 0.2729 - dense_3_acc_7: 0.9819 - dense_3_acc_8: 0.4484 - dense_3_acc_9: 0.1732\n"
     ]
    },
    {
     "data": {
      "text/plain": [
       "<keras.callbacks.History at 0x238e3bed320>"
      ]
     },
     "execution_count": 20,
     "metadata": {},
     "output_type": "execute_result"
    }
   ],
   "source": [
    "model.fit([Xoh, s0, c0], outputs, epochs=1, batch_size=100)"
   ]
  },
  {
   "cell_type": "markdown",
   "metadata": {},
   "source": [
    "While training you can see the loss as well as the accuracy on each of the 10 positions of the output. The table below gives you an example of what the accuracies could be if the batch had 2 examples: \n",
    "\n",
    "<img src=\"images/table.png\" style=\"width:700;height:200px;\"> <br>\n",
    "<caption><center>Thus, `dense_2_acc_8: 0.89` means that you are predicting the 7th character of the output correctly 89% of the time in the current batch of data. </center></caption>\n",
    "\n",
    "\n",
    "We have run this model for longer, and saved the weights. Run the next cell to load our weights. (By training a model for several minutes, you should be able to obtain a model of similar accuracy, but loading our model will save you time.) "
   ]
  },
  {
   "cell_type": "code",
   "execution_count": 21,
   "metadata": {},
   "outputs": [],
   "source": [
    "model.load_weights('models/model.h5')"
   ]
  },
  {
   "cell_type": "markdown",
   "metadata": {},
   "source": [
    "You can now see the results on new examples."
   ]
  },
  {
   "cell_type": "code",
   "execution_count": 23,
   "metadata": {},
   "outputs": [
    {
     "ename": "ValueError",
     "evalue": "Error when checking : expected input_1 to have 3 dimensions, but got array with shape (37, 30)",
     "output_type": "error",
     "traceback": [
      "\u001b[1;31m---------------------------------------------------------------------------\u001b[0m",
      "\u001b[1;31mValueError\u001b[0m                                Traceback (most recent call last)",
      "\u001b[1;32m<ipython-input-23-ac7ef602615d>\u001b[0m in \u001b[0;36m<module>\u001b[1;34m()\u001b[0m\n\u001b[0;32m      4\u001b[0m     \u001b[0msource\u001b[0m \u001b[1;33m=\u001b[0m \u001b[0mstring_to_int\u001b[0m\u001b[1;33m(\u001b[0m\u001b[0mexample\u001b[0m\u001b[1;33m,\u001b[0m \u001b[0mTx\u001b[0m\u001b[1;33m,\u001b[0m \u001b[0mhuman_vocab\u001b[0m\u001b[1;33m)\u001b[0m\u001b[1;33m\u001b[0m\u001b[0m\n\u001b[0;32m      5\u001b[0m     \u001b[0msource\u001b[0m \u001b[1;33m=\u001b[0m \u001b[0mnp\u001b[0m\u001b[1;33m.\u001b[0m\u001b[0marray\u001b[0m\u001b[1;33m(\u001b[0m\u001b[0mlist\u001b[0m\u001b[1;33m(\u001b[0m\u001b[0mmap\u001b[0m\u001b[1;33m(\u001b[0m\u001b[1;32mlambda\u001b[0m \u001b[0mx\u001b[0m\u001b[1;33m:\u001b[0m \u001b[0mto_categorical\u001b[0m\u001b[1;33m(\u001b[0m\u001b[0mx\u001b[0m\u001b[1;33m,\u001b[0m \u001b[0mnum_classes\u001b[0m\u001b[1;33m=\u001b[0m\u001b[0mlen\u001b[0m\u001b[1;33m(\u001b[0m\u001b[0mhuman_vocab\u001b[0m\u001b[1;33m)\u001b[0m\u001b[1;33m)\u001b[0m\u001b[1;33m,\u001b[0m \u001b[0msource\u001b[0m\u001b[1;33m)\u001b[0m\u001b[1;33m)\u001b[0m\u001b[1;33m)\u001b[0m\u001b[1;33m.\u001b[0m\u001b[0mswapaxes\u001b[0m\u001b[1;33m(\u001b[0m\u001b[1;36m0\u001b[0m\u001b[1;33m,\u001b[0m\u001b[1;36m1\u001b[0m\u001b[1;33m)\u001b[0m\u001b[1;33m\u001b[0m\u001b[0m\n\u001b[1;32m----> 6\u001b[1;33m     \u001b[0mprediction\u001b[0m \u001b[1;33m=\u001b[0m \u001b[0mmodel\u001b[0m\u001b[1;33m.\u001b[0m\u001b[0mpredict\u001b[0m\u001b[1;33m(\u001b[0m\u001b[1;33m[\u001b[0m\u001b[0msource\u001b[0m\u001b[1;33m,\u001b[0m \u001b[0ms0\u001b[0m\u001b[1;33m,\u001b[0m \u001b[0mc0\u001b[0m\u001b[1;33m]\u001b[0m\u001b[1;33m)\u001b[0m\u001b[1;33m\u001b[0m\u001b[0m\n\u001b[0m\u001b[0;32m      7\u001b[0m     \u001b[0mprediction\u001b[0m \u001b[1;33m=\u001b[0m \u001b[0mnp\u001b[0m\u001b[1;33m.\u001b[0m\u001b[0margmax\u001b[0m\u001b[1;33m(\u001b[0m\u001b[0mprediction\u001b[0m\u001b[1;33m,\u001b[0m \u001b[0maxis\u001b[0m \u001b[1;33m=\u001b[0m \u001b[1;33m-\u001b[0m\u001b[1;36m1\u001b[0m\u001b[1;33m)\u001b[0m\u001b[1;33m\u001b[0m\u001b[0m\n\u001b[0;32m      8\u001b[0m     \u001b[0moutput\u001b[0m \u001b[1;33m=\u001b[0m \u001b[1;33m[\u001b[0m\u001b[0minv_machine_vocab\u001b[0m\u001b[1;33m[\u001b[0m\u001b[0mint\u001b[0m\u001b[1;33m(\u001b[0m\u001b[0mi\u001b[0m\u001b[1;33m)\u001b[0m\u001b[1;33m]\u001b[0m \u001b[1;32mfor\u001b[0m \u001b[0mi\u001b[0m \u001b[1;32min\u001b[0m \u001b[0mprediction\u001b[0m\u001b[1;33m]\u001b[0m\u001b[1;33m\u001b[0m\u001b[0m\n",
      "\u001b[1;32md:\\program files\\python36\\lib\\site-packages\\keras\\engine\\training.py\u001b[0m in \u001b[0;36mpredict\u001b[1;34m(self, x, batch_size, verbose, steps)\u001b[0m\n\u001b[0;32m   1815\u001b[0m         x = _standardize_input_data(x, self._feed_input_names,\n\u001b[0;32m   1816\u001b[0m                                     \u001b[0mself\u001b[0m\u001b[1;33m.\u001b[0m\u001b[0m_feed_input_shapes\u001b[0m\u001b[1;33m,\u001b[0m\u001b[1;33m\u001b[0m\u001b[0m\n\u001b[1;32m-> 1817\u001b[1;33m                                     check_batch_axis=False)\n\u001b[0m\u001b[0;32m   1818\u001b[0m         \u001b[1;32mif\u001b[0m \u001b[0mself\u001b[0m\u001b[1;33m.\u001b[0m\u001b[0mstateful\u001b[0m\u001b[1;33m:\u001b[0m\u001b[1;33m\u001b[0m\u001b[0m\n\u001b[0;32m   1819\u001b[0m             \u001b[1;32mif\u001b[0m \u001b[0mx\u001b[0m\u001b[1;33m[\u001b[0m\u001b[1;36m0\u001b[0m\u001b[1;33m]\u001b[0m\u001b[1;33m.\u001b[0m\u001b[0mshape\u001b[0m\u001b[1;33m[\u001b[0m\u001b[1;36m0\u001b[0m\u001b[1;33m]\u001b[0m \u001b[1;33m>\u001b[0m \u001b[0mbatch_size\u001b[0m \u001b[1;32mand\u001b[0m \u001b[0mx\u001b[0m\u001b[1;33m[\u001b[0m\u001b[1;36m0\u001b[0m\u001b[1;33m]\u001b[0m\u001b[1;33m.\u001b[0m\u001b[0mshape\u001b[0m\u001b[1;33m[\u001b[0m\u001b[1;36m0\u001b[0m\u001b[1;33m]\u001b[0m \u001b[1;33m%\u001b[0m \u001b[0mbatch_size\u001b[0m \u001b[1;33m!=\u001b[0m \u001b[1;36m0\u001b[0m\u001b[1;33m:\u001b[0m\u001b[1;33m\u001b[0m\u001b[0m\n",
      "\u001b[1;32md:\\program files\\python36\\lib\\site-packages\\keras\\engine\\training.py\u001b[0m in \u001b[0;36m_standardize_input_data\u001b[1;34m(data, names, shapes, check_batch_axis, exception_prefix)\u001b[0m\n\u001b[0;32m    111\u001b[0m                         \u001b[1;34m': expected '\u001b[0m \u001b[1;33m+\u001b[0m \u001b[0mnames\u001b[0m\u001b[1;33m[\u001b[0m\u001b[0mi\u001b[0m\u001b[1;33m]\u001b[0m \u001b[1;33m+\u001b[0m \u001b[1;34m' to have '\u001b[0m \u001b[1;33m+\u001b[0m\u001b[1;33m\u001b[0m\u001b[0m\n\u001b[0;32m    112\u001b[0m                         \u001b[0mstr\u001b[0m\u001b[1;33m(\u001b[0m\u001b[0mlen\u001b[0m\u001b[1;33m(\u001b[0m\u001b[0mshape\u001b[0m\u001b[1;33m)\u001b[0m\u001b[1;33m)\u001b[0m \u001b[1;33m+\u001b[0m \u001b[1;34m' dimensions, but got array '\u001b[0m\u001b[1;33m\u001b[0m\u001b[0m\n\u001b[1;32m--> 113\u001b[1;33m                         'with shape ' + str(data_shape))\n\u001b[0m\u001b[0;32m    114\u001b[0m                 \u001b[1;32mif\u001b[0m \u001b[1;32mnot\u001b[0m \u001b[0mcheck_batch_axis\u001b[0m\u001b[1;33m:\u001b[0m\u001b[1;33m\u001b[0m\u001b[0m\n\u001b[0;32m    115\u001b[0m                     \u001b[0mdata_shape\u001b[0m \u001b[1;33m=\u001b[0m \u001b[0mdata_shape\u001b[0m\u001b[1;33m[\u001b[0m\u001b[1;36m1\u001b[0m\u001b[1;33m:\u001b[0m\u001b[1;33m]\u001b[0m\u001b[1;33m\u001b[0m\u001b[0m\n",
      "\u001b[1;31mValueError\u001b[0m: Error when checking : expected input_1 to have 3 dimensions, but got array with shape (37, 30)"
     ]
    }
   ],
   "source": [
    "EXAMPLES = ['3 May 1979', '5 April 09', '21th of August 2016', 'Tue 10 Jul 2007', 'Saturday May 9 2018', 'March 3 2001', 'March 3rd 2001', '1 March 2001']\n",
    "for example in EXAMPLES:\n",
    "    \n",
    "    source = string_to_int(example, Tx, human_vocab)\n",
    "    source = np.array(list(map(lambda x: to_categorical(x, num_classes=len(human_vocab)), source))).swapaxes(0,1)\n",
    "    prediction = model.predict([source, s0, c0])\n",
    "    prediction = np.argmax(prediction, axis = -1)\n",
    "    output = [inv_machine_vocab[int(i)] for i in prediction]\n",
    "    \n",
    "    print(\"source:\", example)\n",
    "    print(\"output:\", ''.join(output))"
   ]
  },
  {
   "cell_type": "markdown",
   "metadata": {},
   "source": [
    "You can also change these examples to test with your own examples. The next part will give you a better sense on what the attention mechanism is doing--i.e., what part of the input the network is paying attention to when generating a particular output character. "
   ]
  },
  {
   "cell_type": "markdown",
   "metadata": {},
   "source": [
    "## 3 - Visualizing Attention (Optional / Ungraded)\n",
    "\n",
    "Since the problem has a fixed output length of 10, it is also possible to carry out this task using 10 different softmax units to generate the 10 characters of the output. But one advantage of the attention model is that each part of the output (say the month) knows it needs to depend only on a small part of the input (the characters in the input giving the month). We can  visualize what part of the output is looking at what part of the input.\n",
    "\n",
    "Consider the task of translating \"Saturday 9 May 2018\" to \"2018-05-09\". If we visualize the computed $\\alpha^{\\langle t, t' \\rangle}$ we get this: \n",
    "\n",
    "<img src=\"images/date_attention.png\" style=\"width:600;height:300px;\"> <br>\n",
    "<caption><center> **Figure 8**: Full Attention Map</center></caption>\n",
    "\n",
    "Notice how the output ignores the \"Saturday\" portion of the input. None of the output timesteps are paying much attention to that portion of the input. We see also that 9 has been translated as 09 and May has been correctly translated into 05, with the output paying attention to the parts of the input it needs to to make the translation. The year mostly requires it to pay attention to the input's \"18\" in order to generate \"2018.\" \n",
    "\n"
   ]
  },
  {
   "cell_type": "markdown",
   "metadata": {},
   "source": [
    "### 3.1 - Getting the activations from the network\n",
    "\n",
    "Lets now visualize the attention values in your network. We'll propagate an example through the network, then visualize the values of $\\alpha^{\\langle t, t' \\rangle}$. \n",
    "\n",
    "To figure out where the attention values are located, let's start by printing a summary of the model ."
   ]
  },
  {
   "cell_type": "code",
   "execution_count": 24,
   "metadata": {},
   "outputs": [
    {
     "name": "stdout",
     "output_type": "stream",
     "text": [
      "__________________________________________________________________________________________________\n",
      "Layer (type)                    Output Shape         Param #     Connected to                     \n",
      "==================================================================================================\n",
      "input_1 (InputLayer)            (None, 30, 37)       0                                            \n",
      "__________________________________________________________________________________________________\n",
      "s0 (InputLayer)                 (None, 64)           0                                            \n",
      "__________________________________________________________________________________________________\n",
      "bidirectional_1 (Bidirectional) (None, 30, 64)       17920       input_1[0][0]                    \n",
      "__________________________________________________________________________________________________\n",
      "repeat_vector_1 (RepeatVector)  (None, 30, 64)       0           s0[0][0]                         \n",
      "                                                                 lstm_1[0][0]                     \n",
      "                                                                 lstm_1[1][0]                     \n",
      "                                                                 lstm_1[2][0]                     \n",
      "                                                                 lstm_1[3][0]                     \n",
      "                                                                 lstm_1[4][0]                     \n",
      "                                                                 lstm_1[5][0]                     \n",
      "                                                                 lstm_1[6][0]                     \n",
      "                                                                 lstm_1[7][0]                     \n",
      "                                                                 lstm_1[8][0]                     \n",
      "__________________________________________________________________________________________________\n",
      "concatenate_1 (Concatenate)     (None, 30, 128)      0           bidirectional_1[0][0]            \n",
      "                                                                 repeat_vector_1[0][0]            \n",
      "                                                                 bidirectional_1[0][0]            \n",
      "                                                                 repeat_vector_1[1][0]            \n",
      "                                                                 bidirectional_1[0][0]            \n",
      "                                                                 repeat_vector_1[2][0]            \n",
      "                                                                 bidirectional_1[0][0]            \n",
      "                                                                 repeat_vector_1[3][0]            \n",
      "                                                                 bidirectional_1[0][0]            \n",
      "                                                                 repeat_vector_1[4][0]            \n",
      "                                                                 bidirectional_1[0][0]            \n",
      "                                                                 repeat_vector_1[5][0]            \n",
      "                                                                 bidirectional_1[0][0]            \n",
      "                                                                 repeat_vector_1[6][0]            \n",
      "                                                                 bidirectional_1[0][0]            \n",
      "                                                                 repeat_vector_1[7][0]            \n",
      "                                                                 bidirectional_1[0][0]            \n",
      "                                                                 repeat_vector_1[8][0]            \n",
      "                                                                 bidirectional_1[0][0]            \n",
      "                                                                 repeat_vector_1[9][0]            \n",
      "__________________________________________________________________________________________________\n",
      "dense_1 (Dense)                 (None, 30, 10)       1290        concatenate_1[0][0]              \n",
      "                                                                 concatenate_1[1][0]              \n",
      "                                                                 concatenate_1[2][0]              \n",
      "                                                                 concatenate_1[3][0]              \n",
      "                                                                 concatenate_1[4][0]              \n",
      "                                                                 concatenate_1[5][0]              \n",
      "                                                                 concatenate_1[6][0]              \n",
      "                                                                 concatenate_1[7][0]              \n",
      "                                                                 concatenate_1[8][0]              \n",
      "                                                                 concatenate_1[9][0]              \n",
      "__________________________________________________________________________________________________\n",
      "dense_2 (Dense)                 (None, 30, 1)        11          dense_1[0][0]                    \n",
      "                                                                 dense_1[1][0]                    \n",
      "                                                                 dense_1[2][0]                    \n",
      "                                                                 dense_1[3][0]                    \n",
      "                                                                 dense_1[4][0]                    \n",
      "                                                                 dense_1[5][0]                    \n",
      "                                                                 dense_1[6][0]                    \n",
      "                                                                 dense_1[7][0]                    \n",
      "                                                                 dense_1[8][0]                    \n",
      "                                                                 dense_1[9][0]                    \n",
      "__________________________________________________________________________________________________\n",
      "attention_weights (Activation)  (None, 30, 1)        0           dense_2[0][0]                    \n",
      "                                                                 dense_2[1][0]                    \n",
      "                                                                 dense_2[2][0]                    \n",
      "                                                                 dense_2[3][0]                    \n",
      "                                                                 dense_2[4][0]                    \n",
      "                                                                 dense_2[5][0]                    \n",
      "                                                                 dense_2[6][0]                    \n",
      "                                                                 dense_2[7][0]                    \n",
      "                                                                 dense_2[8][0]                    \n",
      "                                                                 dense_2[9][0]                    \n",
      "__________________________________________________________________________________________________\n",
      "dot_1 (Dot)                     (None, 1, 64)        0           attention_weights[0][0]          \n",
      "                                                                 bidirectional_1[0][0]            \n",
      "                                                                 attention_weights[1][0]          \n",
      "                                                                 bidirectional_1[0][0]            \n",
      "                                                                 attention_weights[2][0]          \n",
      "                                                                 bidirectional_1[0][0]            \n",
      "                                                                 attention_weights[3][0]          \n",
      "                                                                 bidirectional_1[0][0]            \n",
      "                                                                 attention_weights[4][0]          \n",
      "                                                                 bidirectional_1[0][0]            \n",
      "                                                                 attention_weights[5][0]          \n",
      "                                                                 bidirectional_1[0][0]            \n",
      "                                                                 attention_weights[6][0]          \n",
      "                                                                 bidirectional_1[0][0]            \n",
      "                                                                 attention_weights[7][0]          \n",
      "                                                                 bidirectional_1[0][0]            \n",
      "                                                                 attention_weights[8][0]          \n",
      "                                                                 bidirectional_1[0][0]            \n",
      "                                                                 attention_weights[9][0]          \n",
      "                                                                 bidirectional_1[0][0]            \n",
      "__________________________________________________________________________________________________\n",
      "c0 (InputLayer)                 (None, 64)           0                                            \n",
      "__________________________________________________________________________________________________\n",
      "lstm_1 (LSTM)                   [(None, 64), (None,  33024       dot_1[0][0]                      \n",
      "                                                                 s0[0][0]                         \n",
      "                                                                 c0[0][0]                         \n",
      "                                                                 dot_1[1][0]                      \n",
      "                                                                 lstm_1[0][0]                     \n",
      "                                                                 lstm_1[0][2]                     \n",
      "                                                                 dot_1[2][0]                      \n",
      "                                                                 lstm_1[1][0]                     \n",
      "                                                                 lstm_1[1][2]                     \n",
      "                                                                 dot_1[3][0]                      \n",
      "                                                                 lstm_1[2][0]                     \n",
      "                                                                 lstm_1[2][2]                     \n",
      "                                                                 dot_1[4][0]                      \n",
      "                                                                 lstm_1[3][0]                     \n",
      "                                                                 lstm_1[3][2]                     \n",
      "                                                                 dot_1[5][0]                      \n",
      "                                                                 lstm_1[4][0]                     \n",
      "                                                                 lstm_1[4][2]                     \n",
      "                                                                 dot_1[6][0]                      \n",
      "                                                                 lstm_1[5][0]                     \n",
      "                                                                 lstm_1[5][2]                     \n",
      "                                                                 dot_1[7][0]                      \n",
      "                                                                 lstm_1[6][0]                     \n",
      "                                                                 lstm_1[6][2]                     \n",
      "                                                                 dot_1[8][0]                      \n",
      "                                                                 lstm_1[7][0]                     \n",
      "                                                                 lstm_1[7][2]                     \n",
      "                                                                 dot_1[9][0]                      \n",
      "                                                                 lstm_1[8][0]                     \n",
      "                                                                 lstm_1[8][2]                     \n",
      "__________________________________________________________________________________________________\n",
      "dense_3 (Dense)                 (None, 11)           715         lstm_1[0][0]                     \n",
      "                                                                 lstm_1[1][0]                     \n",
      "                                                                 lstm_1[2][0]                     \n",
      "                                                                 lstm_1[3][0]                     \n",
      "                                                                 lstm_1[4][0]                     \n",
      "                                                                 lstm_1[5][0]                     \n",
      "                                                                 lstm_1[6][0]                     \n",
      "                                                                 lstm_1[7][0]                     \n",
      "                                                                 lstm_1[8][0]                     \n",
      "                                                                 lstm_1[9][0]                     \n",
      "==================================================================================================\n",
      "Total params: 52,960\n",
      "Trainable params: 52,960\n",
      "Non-trainable params: 0\n",
      "__________________________________________________________________________________________________\n"
     ]
    }
   ],
   "source": [
    "model.summary()"
   ]
  },
  {
   "cell_type": "markdown",
   "metadata": {},
   "source": [
    "Navigate through the output of `model.summary()` above. You can see that the layer named `attention_weights` outputs the `alphas` of shape (m, 30, 1) before `dot_2` computes the context vector for every time step $t = 0, \\ldots, T_y-1$. Lets get the activations from this layer.\n",
    "\n",
    "The function `attention_map()` pulls out the attention values from your model and plots them."
   ]
  },
  {
   "cell_type": "code",
   "execution_count": 25,
   "metadata": {
    "scrolled": false
   },
   "outputs": [
    {
     "data": {
      "text/plain": [
       "<matplotlib.figure.Figure at 0x23890410320>"
      ]
     },
     "metadata": {},
     "output_type": "display_data"
    },
    {
     "data": {
      "image/png": "[encoded data removed]",
      "text/plain": [
       "<matplotlib.figure.Figure at 0x23890410710>"
      ]
     },
     "metadata": {},
     "output_type": "display_data"
    }
   ],
   "source": [
    "attention_map = plot_attention_map(model, human_vocab, inv_machine_vocab, \"Tuesday 09 Oct 1993\", num = 7, n_s = 64)"
   ]
  },
  {
   "cell_type": "markdown",
   "metadata": {},
   "source": [
    "On the generated plot you can observe the values of the attention weights for each character of the predicted output. Examine this plot and check that where the network is paying attention makes sense to you.\n",
    "\n",
    "In the date translation application, you will observe that most of the time attention helps predict the year, and hasn't much impact on predicting the day/month."
   ]
  },
  {
   "cell_type": "markdown",
   "metadata": {},
   "source": [
    "### Congratulations!\n",
    "\n",
    "\n",
    "You have come to the end of this assignment \n",
    "\n",
    "<font color='blue'> **Here's what you should remember from this notebook**:\n",
    "\n",
    "- Machine translation models can be used to map from one sequence to another. They are useful not just for translating human languages (like French->English) but also for tasks like date format translation. \n",
    "- An attention mechanism allows a network to focus on the most relevant parts of the input when producing a specific part of the output. \n",
    "- A network using an attention mechanism can translate from inputs of length $T_x$ to outputs of length $T_y$, where $T_x$ and $T_y$ can be different. \n",
    "- You can visualize attention weights $\\alpha^{\\langle t,t' \\rangle}$ to see what the network is paying attention to while generating each output."
   ]
  },
  {
   "cell_type": "markdown",
   "metadata": {},
   "source": [
    "Congratulations on finishing this assignment! You are now able to implement an attention model and use it to learn complex mappings from one sequence to another. "
   ]
  }
 ],
 "metadata": {
  "coursera": {
   "course_slug": "nlp-sequence-models",
   "graded_item_id": "n16CQ",
   "launcher_item_id": "npjGi"
  },
  "kernelspec": {
   "display_name": "Python 3",
   "language": "python",
   "name": "python3"
  },
  "language_info": {
   "codemirror_mode": {
    "name": "ipython",
    "version": 3
   },
   "file_extension": ".py",
   "mimetype": "text/x-python",
   "name": "python",
   "nbconvert_exporter": "python",
   "pygments_lexer": "ipython3",
   "version": "3.6.4"
  }
 },
 "nbformat": 4,
 "nbformat_minor": 2
}
